{
  "nbformat": 4,
  "nbformat_minor": 0,
  "metadata": {
    "colab": {
      "name": "第3節_44-50.ipynb",
      "provenance": [],
      "collapsed_sections": [],
      "authorship_tag": "ABX9TyMBb8C0c0dIpvWDBIa5nQ8s",
      "include_colab_link": true
    },
    "kernelspec": {
      "name": "python3",
      "display_name": "Python 3"
    },
    "accelerator": "GPU"
  },
  "cells": [
    {
      "cell_type": "markdown",
      "metadata": {
        "id": "view-in-github",
        "colab_type": "text"
      },
      "source": [
        "<a href=\"https://colab.research.google.com/github/hikercalvin/Python-3-Data-Analysis-Basics/blob/master/%E7%AC%AC3%E7%AF%80_44_50.ipynb\" target=\"_parent\"><img src=\"https://colab.research.google.com/assets/colab-badge.svg\" alt=\"Open In Colab\"/></a>"
      ]
    },
    {
      "cell_type": "code",
      "metadata": {
        "id": "5b1Nz-tpinIU"
      },
      "source": [
        "#讓 get_movie_data() 更方便使用\n",
        "#可以輸入電影名稱，而非 URL！\n",
        "#觀察 https://www.imdb.com/find?q=Avengers%3A+Endgame&ref_=nv_sr_sm"
      ],
      "execution_count": null,
      "outputs": []
    },
    {
      "cell_type": "code",
      "metadata": {
        "id": "t-4f6I1mi-sZ",
        "colab": {
          "base_uri": "https://localhost:8080/"
        },
        "outputId": "0ad6976b-e2d0-43dd-bc95-926398c25427"
      },
      "source": [
        "import requests\n",
        "from bs4 import BeautifulSoup\n",
        "\n",
        "query_string_parameters = {\n",
        "    'q': 'Avengers: Endgame',\n",
        "    'ref_': 'nv_sr_sm'\n",
        "}\n",
        "request_url = \"https://www.imdb.com/find\"\n",
        "response = requests.get(request_url, params=query_string_parameters)\n",
        "print(response.status_code)"
      ],
      "execution_count": null,
      "outputs": [
        {
          "output_type": "stream",
          "text": [
            "200\n"
          ],
          "name": "stdout"
        }
      ]
    },
    {
      "cell_type": "code",
      "metadata": {
        "id": "UqFyOn88kPod",
        "colab": {
          "base_uri": "https://localhost:8080/"
        },
        "outputId": "1c2905e9-f3a7-4d91-aec3-5c0079fc0e0b"
      },
      "source": [
        "soup = BeautifulSoup(response.text)\n",
        "print(type(soup))"
      ],
      "execution_count": null,
      "outputs": [
        {
          "output_type": "stream",
          "text": [
            "<class 'bs4.BeautifulSoup'>\n"
          ],
          "name": "stdout"
        }
      ]
    },
    {
      "cell_type": "code",
      "metadata": {
        "id": "63d_xt7Nk6O3",
        "colab": {
          "base_uri": "https://localhost:8080/"
        },
        "outputId": "dcd90b03-4766-4f9e-8f31-61911ab4c691"
      },
      "source": [
        "result_text_cs = \".result_text > a\"  #使用SelectorGadget\n",
        "soup.select(result_text_cs)"
      ],
      "execution_count": null,
      "outputs": [
        {
          "output_type": "execute_result",
          "data": {
            "text/plain": [
              "[<a href=\"/title/tt4154796/\">Avengers: Endgame</a>,\n",
              " <a href=\"/title/tt10249956/\">Avengers: Endgame</a>,\n",
              " <a href=\"/title/tt10349546/\">Avengers: Endgame</a>,\n",
              " <a href=\"/title/tt10025738/\">Avengers: Endgame and the Latest Captain Marvel Outrage!!</a>,\n",
              " <a href=\"/title/tt10275390/\">Avengers: Endgame Movie Fights</a>,\n",
              " <a href=\"/title/tt10261576/\">Avengers: Endgame - Spoiler Review</a>,\n",
              " <a href=\"/title/tt10026410/\">Avengers: Endgame Poster Backlash Shows Results - #93</a>,\n",
              " <a href=\"/search/keyword?keywords=avengers-endgame\">avengers-endgame</a>,\n",
              " <a href=\"/search/keyword?keywords=reference-to-avengers-endgame\">reference-to-avengers-endgame</a>,\n",
              " <a href=\"/search/keyword?keywords=reference-to-%27avengers-endgame%27-2019\">reference-to-'avengers-endgame'-2019</a>]"
            ]
          },
          "metadata": {
            "tags": []
          },
          "execution_count": 34
        }
      ]
    },
    {
      "cell_type": "code",
      "metadata": {
        "id": "Ir7wcj5fl0is",
        "colab": {
          "base_uri": "https://localhost:8080/"
        },
        "outputId": "e0a8b90f-4162-44a5-a0dc-8f4f46d1599e"
      },
      "source": [
        "result_text_hrefs = [e.get(\"href\") for e in soup.select(result_text_cs)]\n",
        "print(result_text_hrefs)"
      ],
      "execution_count": null,
      "outputs": [
        {
          "output_type": "stream",
          "text": [
            "['/title/tt4154796/', '/title/tt10249956/', '/title/tt10349546/', '/title/tt10025738/', '/title/tt10275390/', '/title/tt10261576/', '/title/tt10026410/', '/search/keyword?keywords=avengers-endgame', '/search/keyword?keywords=reference-to-avengers-endgame', '/search/keyword?keywords=reference-to-%27avengers-endgame%27-2019']\n"
          ],
          "name": "stdout"
        }
      ]
    },
    {
      "cell_type": "code",
      "metadata": {
        "id": "71C-9D94mnoS",
        "colab": {
          "base_uri": "https://localhost:8080/"
        },
        "outputId": "7a9b48f2-f9ad-42cc-ea72-7d0b4a0a1712"
      },
      "source": [
        "movie_href = result_text_hrefs[0]\n",
        "print(movie_href)"
      ],
      "execution_count": null,
      "outputs": [
        {
          "output_type": "stream",
          "text": [
            "/title/tt4154796/\n"
          ],
          "name": "stdout"
        }
      ]
    },
    {
      "cell_type": "code",
      "metadata": {
        "id": "rTvEugnBm4SO",
        "colab": {
          "base_uri": "https://localhost:8080/"
        },
        "outputId": "483d7f35-093e-4c21-8ef4-267513958334"
      },
      "source": [
        "movie_url = \"https://www.imdb.com\" + movie_href #movie_url = \"https://www.imdb.com{}\".format(movie_href)\n",
        "print(movie_url)"
      ],
      "execution_count": null,
      "outputs": [
        {
          "output_type": "stream",
          "text": [
            "https://www.imdb.com/title/tt4154796/\n"
          ],
          "name": "stdout"
        }
      ]
    },
    {
      "cell_type": "code",
      "metadata": {
        "id": "sISWm7ygnYpa"
      },
      "source": [
        "import requests\n",
        "from bs4 import BeautifulSoup\n",
        "\n",
        "def get_movie_data(search_movie_title):\n",
        "  result_text_cs = \".result_text > a\"  \n",
        "  movie_title_cs = \"h1\"\n",
        "  movie_poster_cs = \".poster img\"\n",
        "  movie_rating_cs =\"strong span\"\n",
        "  movie_genre_cs = \".subtext a\"\n",
        "  movie_cast_cs =\".primary_photo+ td a\"\n",
        "  # 1st request and parse: movie_url\n",
        "  query_string_parameters = {\n",
        "    'q': search_movie_title,\n",
        "    'ref_': 'nv_sr_sm'\n",
        "  }\n",
        "  request_url = \"https://www.imdb.com/find\"\n",
        "  response = requests.get(request_url, params=query_string_parameters)\n",
        "  soup = BeautifulSoup(response.text)\n",
        "  result_text_hrefs = [e.get(\"href\") for e in soup.select(result_text_cs)]\n",
        "  movie_href = result_text_hrefs[0]\n",
        "  movie_url = \"https://www.imdb.com\" + movie_href #movie_url = \"https://www.imdb.com{}\".format(movie_href)\n",
        " \n",
        "  # 2nd request and parse: movie_data\n",
        "  response = requests.get(movie_url)\n",
        "  soup = BeautifulSoup(response.text)\n",
        "  movie_title = soup.select(movie_title_cs)[0].text.replace('\\xa0',' ').strip()\n",
        "  movie_poster = soup.select(movie_poster_cs)[0].get(\"src\")\n",
        "  movie_rating = float(soup.select(movie_rating_cs)[0].text)\n",
        "  movie_genre = [e.text for e in soup.select(movie_genre_cs)]\n",
        "  movie_genre.pop()\n",
        "  movie_cast = [e.text.strip() for e in soup.select(movie_cast_cs)]\n",
        "  movie_data = {\n",
        "      'movieTitle':movie_title,\n",
        "      'moviePoster':movie_poster,\n",
        "      'movieRating':movie_rating,\n",
        "      'movieGenre':movie_genre,\n",
        "      'movieCast':movie_cast\n",
        "  }\n",
        "  return movie_data"
      ],
      "execution_count": null,
      "outputs": []
    },
    {
      "cell_type": "code",
      "metadata": {
        "id": "mBnbIxdilCk1",
        "colab": {
          "base_uri": "https://localhost:8080/"
        },
        "outputId": "0ff92b7b-ab9f-4b55-b4fa-0c8d269bbc27"
      },
      "source": [
        "get_movie_data(\"Avengers: Endgame\")"
      ],
      "execution_count": null,
      "outputs": [
        {
          "output_type": "execute_result",
          "data": {
            "text/plain": [
              "{'movieCast': [],\n",
              " 'movieGenre': ['Action', 'Adventure', 'Drama'],\n",
              " 'moviePoster': 'https://m.media-amazon.com/images/M/MV5BMTc5MDE2ODcwNV5BMl5BanBnXkFtZTgwMzI2NzQ2NzM@._V1_UX182_CR0,0,182,268_AL_.jpg',\n",
              " 'movieRating': 8.4,\n",
              " 'movieTitle': 'Avengers: Endgame (2019)'}"
            ]
          },
          "metadata": {
            "tags": []
          },
          "execution_count": 39
        }
      ]
    },
    {
      "cell_type": "code",
      "metadata": {
        "id": "Epbkaf_FlJJ_",
        "colab": {
          "base_uri": "https://localhost:8080/"
        },
        "outputId": "bad9205f-b39c-4ffd-9cce-459db80a1e3c"
      },
      "source": [
        "get_movie_data('Joker')"
      ],
      "execution_count": null,
      "outputs": [
        {
          "output_type": "execute_result",
          "data": {
            "text/plain": [
              "{'movieCast': [],\n",
              " 'movieGenre': ['Crime', 'Drama', 'Thriller'],\n",
              " 'moviePoster': 'https://m.media-amazon.com/images/M/MV5BNGVjNWI4ZGUtNzE0MS00YTJmLWE0ZDctN2ZiYTk2YmI3NTYyXkEyXkFqcGdeQXVyMTkxNjUyNQ@@._V1_UX182_CR0,0,182,268_AL_.jpg',\n",
              " 'movieRating': 8.5,\n",
              " 'movieTitle': 'Joker (2019)'}"
            ]
          },
          "metadata": {
            "tags": []
          },
          "execution_count": 40
        }
      ]
    },
    {
      "cell_type": "code",
      "metadata": {
        "id": "D5FN_5DTlt94"
      },
      "source": [
        "#有時候 requests 送出的請求需要攜帶餅乾（cookies），否則回傳的資料會不符合預期\n",
        "  #PTT 八卦版\n",
        "  #華航機上電影清單"
      ],
      "execution_count": null,
      "outputs": []
    },
    {
      "cell_type": "code",
      "metadata": {
        "id": "Q00K2vowFxe7",
        "colab": {
          "base_uri": "https://localhost:8080/"
        },
        "outputId": "ee5b0db2-dacb-442f-b75f-df92983ec89b"
      },
      "source": [
        "response = requests.get(\"https://www.ptt.cc/bbs/Gossiping/index.html\")\n",
        "print(response.text)"
      ],
      "execution_count": null,
      "outputs": [
        {
          "output_type": "stream",
          "text": [
            "<!DOCTYPE html>\n",
            "<html>\n",
            "\t<head>\n",
            "\t\t<meta charset=\"utf-8\">\n",
            "\t\t\n",
            "\n",
            "<meta name=\"viewport\" content=\"width=device-width, initial-scale=1\">\n",
            "\n",
            "<title>批踢踢實業坊</title>\n",
            "\n",
            "<link rel=\"stylesheet\" type=\"text/css\" href=\"//images.ptt.cc/bbs/v2.27/bbs-common.css\">\n",
            "<link rel=\"stylesheet\" type=\"text/css\" href=\"//images.ptt.cc/bbs/v2.27/bbs-base.css\" media=\"screen\">\n",
            "<link rel=\"stylesheet\" type=\"text/css\" href=\"//images.ptt.cc/bbs/v2.27/bbs-custom.css\">\n",
            "<link rel=\"stylesheet\" type=\"text/css\" href=\"//images.ptt.cc/bbs/v2.27/pushstream.css\" media=\"screen\">\n",
            "<link rel=\"stylesheet\" type=\"text/css\" href=\"//images.ptt.cc/bbs/v2.27/bbs-print.css\" media=\"print\">\n",
            "\n",
            "\n",
            "\n",
            "\n",
            "\t</head>\n",
            "    <body>\n",
            "\t\t\n",
            "<div class=\"bbs-screen bbs-content\">\n",
            "    <div class=\"over18-notice\">\n",
            "        <p>本網站已依網站內容分級規定處理</p>\n",
            "\n",
            "        <p>警告︰您即將進入之看板內容需滿十八歲方可瀏覽。</p>\n",
            "\n",
            "        <p>若您尚未年滿十八歲，請點選離開。若您已滿十八歲，亦不可將本區之內容派發、傳閱、出售、出租、交給或借予年齡未滿18歲的人士瀏覽，或將本網站內容向該人士出示、播放或放映。</p>\n",
            "    </div>\n",
            "</div>\n",
            "\n",
            "<div class=\"bbs-screen bbs-content center clear\">\n",
            "    <form action=\"/ask/over18\" method=\"post\">\n",
            "        <input type=\"hidden\" name=\"from\" value=\"/bbs/Gossiping/index.html\">\n",
            "        <div class=\"over18-button-container\">\n",
            "            <button class=\"btn-big\" type=\"submit\" name=\"yes\" value=\"yes\">我同意，我已年滿十八歲<br><small>進入</small></button>\n",
            "        </div>\n",
            "        <div class=\"over18-button-container\">\n",
            "            <button class=\"btn-big\" type=\"submit\" name=\"no\" value=\"no\">未滿十八歲或不同意本條款<br><small>離開</small></button>\n",
            "        </div>\n",
            "    </form>\n",
            "</div>\n",
            "\n",
            "\t\t\n",
            "\n",
            "<script>\n",
            "  (function(i,s,o,g,r,a,m){i['GoogleAnalyticsObject']=r;i[r]=i[r]||function(){\n",
            "  (i[r].q=i[r].q||[]).push(arguments)},i[r].l=1*new Date();a=s.createElement(o),\n",
            "  m=s.getElementsByTagName(o)[0];a.async=1;a.src=g;m.parentNode.insertBefore(a,m)\n",
            "  })(window,document,'script','https://www.google-analytics.com/analytics.js','ga');\n",
            "\n",
            "  ga('create', 'UA-32365737-1', {\n",
            "    cookieDomain: 'ptt.cc',\n",
            "    legacyCookieDomain: 'ptt.cc'\n",
            "  });\n",
            "  ga('send', 'pageview');\n",
            "</script>\n",
            "\n",
            "\n",
            "\t\t\n",
            "<script src=\"//ajax.googleapis.com/ajax/libs/jquery/2.1.1/jquery.min.js\"></script>\n",
            "<script src=\"//images.ptt.cc/bbs/v2.27/bbs.js\"></script>\n",
            "\n",
            "    </body>\n",
            "</html>\n",
            "\n"
          ],
          "name": "stdout"
        }
      ]
    },
    {
      "cell_type": "code",
      "metadata": {
        "id": "L852vz2qF0VW",
        "colab": {
          "base_uri": "https://localhost:8080/"
        },
        "outputId": "a2ae8515-7911-4de4-f456-4cb4d199f323"
      },
      "source": [
        "response = requests.get(\"http://www.fantasy-sky.com/ContentList.aspx?section=002\")\n",
        "soup = BeautifulSoup(response.text)\n",
        "movie_titles = [i.text for i in soup.select(\".movies-name\")]\n",
        "print(movie_titles)"
      ],
      "execution_count": null,
      "outputs": [
        {
          "output_type": "stream",
          "text": [
            "['居禮夫人：放射永恆', '我的A級秘密', '超有事大法師', '婚姻大崩壞', '狗狗史酷比！', '凱利幫真史', '人力資本', '如何培養一個女孩', '猛禽小隊：小丑女大解放', '回歸之路', '魅影海洋', '好友互整電影版', '誤殺', '白蛇：緣起', '鑰命監獄', '海邊走走', '騙局', '巴拉特', '電影版輝夜姬想讓人告白…']\n"
          ],
          "name": "stdout"
        }
      ]
    },
    {
      "cell_type": "code",
      "metadata": {
        "id": "JrASQ7kCGCOs",
        "colab": {
          "base_uri": "https://localhost:8080/"
        },
        "outputId": "9f115430-12ad-493a-c6a4-e30ccb9c51e3"
      },
      "source": [
        "#從開發人員工具檢視 Cookies\n",
        "\n",
        "import requests\n",
        "over18_cookie = {\n",
        "    'over18':'1'\n",
        "}\n",
        "\n",
        "response = requests.get(\"https://www.ptt.cc/bbs/Gossiping/index.html\", cookies=over18_cookie)\n",
        "print(response.text)"
      ],
      "execution_count": null,
      "outputs": [
        {
          "output_type": "stream",
          "text": [
            "<!DOCTYPE html>\n",
            "<html>\n",
            "\t<head>\n",
            "\t\t<meta charset=\"utf-8\">\n",
            "\t\t\n",
            "\n",
            "<meta name=\"viewport\" content=\"width=device-width, initial-scale=1\">\n",
            "\n",
            "<title>看板 Gossiping 文章列表 - 批踢踢實業坊</title>\n",
            "\n",
            "<link rel=\"stylesheet\" type=\"text/css\" href=\"//images.ptt.cc/bbs/v2.27/bbs-common.css\">\n",
            "<link rel=\"stylesheet\" type=\"text/css\" href=\"//images.ptt.cc/bbs/v2.27/bbs-base.css\" media=\"screen\">\n",
            "<link rel=\"stylesheet\" type=\"text/css\" href=\"//images.ptt.cc/bbs/v2.27/bbs-custom.css\">\n",
            "<link rel=\"stylesheet\" type=\"text/css\" href=\"//images.ptt.cc/bbs/v2.27/pushstream.css\" media=\"screen\">\n",
            "<link rel=\"stylesheet\" type=\"text/css\" href=\"//images.ptt.cc/bbs/v2.27/bbs-print.css\" media=\"print\">\n",
            "\n",
            "\n",
            "\n",
            "\n",
            "\t</head>\n",
            "    <body>\n",
            "\t\t\n",
            "<div id=\"topbar-container\">\n",
            "\t<div id=\"topbar\" class=\"bbs-content\">\n",
            "\t\t<a id=\"logo\" href=\"/bbs/\">批踢踢實業坊</a>\n",
            "\t\t<span>&rsaquo;</span>\n",
            "\t\t<a class=\"board\" href=\"/bbs/Gossiping/index.html\"><span class=\"board-label\">看板 </span>Gossiping</a>\n",
            "\t\t<a class=\"right small\" href=\"/about.html\">關於我們</a>\n",
            "\t\t<a class=\"right small\" href=\"/contact.html\">聯絡資訊</a>\n",
            "\t</div>\n",
            "</div>\n",
            "\n",
            "<div id=\"main-container\">\n",
            "\t<div id=\"action-bar-container\">\n",
            "\t\t<div class=\"action-bar\">\n",
            "\t\t\t<div class=\"btn-group btn-group-dir\">\n",
            "\t\t\t\t<a class=\"btn selected\" href=\"/bbs/Gossiping/index.html\">看板</a>\n",
            "\t\t\t\t<a class=\"btn\" href=\"/man/Gossiping/index.html\">精華區</a>\n",
            "\t\t\t</div>\n",
            "\t\t\t<div class=\"btn-group btn-group-paging\">\n",
            "\t\t\t\t<a class=\"btn wide\" href=\"/bbs/Gossiping/index1.html\">最舊</a>\n",
            "\t\t\t\t<a class=\"btn wide\" href=\"/bbs/Gossiping/index39275.html\">&lsaquo; 上頁</a>\n",
            "\t\t\t\t<a class=\"btn wide disabled\">下頁 &rsaquo;</a>\n",
            "\t\t\t\t<a class=\"btn wide\" href=\"/bbs/Gossiping/index.html\">最新</a>\n",
            "\t\t\t</div>\n",
            "\t\t</div>\n",
            "\t</div>\n",
            "\n",
            "\t<div class=\"r-list-container action-bar-margin bbs-screen\">\n",
            "\t\t<div class=\"search-bar\">\n",
            "\t\t\t<form type=\"get\" action=\"search\" id=\"search-bar\">\n",
            "\t\t\t\t<input class=\"query\" type=\"text\" name=\"q\" value=\"\" placeholder=\"搜尋文章&#x22ef;\">\n",
            "\t\t\t</form>\n",
            "\t\t</div>\n",
            "\n",
            "\t\t\n",
            "\t\t\n",
            "            \n",
            "        \n",
            "        \n",
            "\t\t<div class=\"r-ent\">\n",
            "\t\t\t<div class=\"nrec\"><span class=\"hl f2\">4</span></div>\n",
            "\t\t\t<div class=\"title\">\n",
            "\t\t\t\n",
            "\t\t\t\t<a href=\"/bbs/Gossiping/M.1607072042.A.8F1.html\">Re: [新聞] 蔣萬安批萊豬評估報告僅4頁 鄭運鵬:給40</a>\n",
            "\t\t\t\n",
            "\t\t\t</div>\n",
            "\t\t\t<div class=\"meta\">\n",
            "\t\t\t\t<div class=\"author\">devidevi</div>\n",
            "\t\t\t\t<div class=\"article-menu\">\n",
            "\t\t\t\t\t\n",
            "\t\t\t\t\t<div class=\"trigger\">&#x22ef;</div>\n",
            "\t\t\t\t\t<div class=\"dropdown\">\n",
            "\t\t\t\t\t\t<div class=\"item\"><a href=\"/bbs/Gossiping/search?q=thread%3A%5B%E6%96%B0%E8%81%9E%5D&#43;%E8%94%A3%E8%90%AC%E5%AE%89%E6%89%B9%E8%90%8A%E8%B1%AC%E8%A9%95%E4%BC%B0%E5%A0%B1%E5%91%8A%E5%83%854%E9%A0%81&#43;%E9%84%AD%E9%81%8B%E9%B5%AC%3A%E7%B5%A640\">搜尋同標題文章</a></div>\n",
            "\t\t\t\t\t\t\n",
            "\t\t\t\t\t\t<div class=\"item\"><a href=\"/bbs/Gossiping/search?q=author%3Adevidevi\">搜尋看板內 devidevi 的文章</a></div>\n",
            "\t\t\t\t\t\t\n",
            "\t\t\t\t\t</div>\n",
            "\t\t\t\t\t\n",
            "\t\t\t\t</div>\n",
            "\t\t\t\t<div class=\"date\">12/04</div>\n",
            "\t\t\t\t<div class=\"mark\"></div>\n",
            "\t\t\t</div>\n",
            "\t\t</div>\n",
            "\n",
            "\t\t\n",
            "            \n",
            "        \n",
            "        \n",
            "\t\t<div class=\"r-ent\">\n",
            "\t\t\t<div class=\"nrec\"><span class=\"hl f3\">12</span></div>\n",
            "\t\t\t<div class=\"title\">\n",
            "\t\t\t\n",
            "\t\t\t\t<a href=\"/bbs/Gossiping/M.1607072088.A.6DE.html\">[問卦] 要如何一句話暖哭女朋友？</a>\n",
            "\t\t\t\n",
            "\t\t\t</div>\n",
            "\t\t\t<div class=\"meta\">\n",
            "\t\t\t\t<div class=\"author\">Qorqios</div>\n",
            "\t\t\t\t<div class=\"article-menu\">\n",
            "\t\t\t\t\t\n",
            "\t\t\t\t\t<div class=\"trigger\">&#x22ef;</div>\n",
            "\t\t\t\t\t<div class=\"dropdown\">\n",
            "\t\t\t\t\t\t<div class=\"item\"><a href=\"/bbs/Gossiping/search?q=thread%3A%5B%E5%95%8F%E5%8D%A6%5D&#43;%E8%A6%81%E5%A6%82%E4%BD%95%E4%B8%80%E5%8F%A5%E8%A9%B1%E6%9A%96%E5%93%AD%E5%A5%B3%E6%9C%8B%E5%8F%8B%EF%BC%9F\">搜尋同標題文章</a></div>\n",
            "\t\t\t\t\t\t\n",
            "\t\t\t\t\t\t<div class=\"item\"><a href=\"/bbs/Gossiping/search?q=author%3AQorqios\">搜尋看板內 Qorqios 的文章</a></div>\n",
            "\t\t\t\t\t\t\n",
            "\t\t\t\t\t</div>\n",
            "\t\t\t\t\t\n",
            "\t\t\t\t</div>\n",
            "\t\t\t\t<div class=\"date\">12/04</div>\n",
            "\t\t\t\t<div class=\"mark\"></div>\n",
            "\t\t\t</div>\n",
            "\t\t</div>\n",
            "\n",
            "\t\t\n",
            "            \n",
            "        \n",
            "        \n",
            "\t\t<div class=\"r-ent\">\n",
            "\t\t\t<div class=\"nrec\"><span class=\"hl f2\">4</span></div>\n",
            "\t\t\t<div class=\"title\">\n",
            "\t\t\t\n",
            "\t\t\t\t<a href=\"/bbs/Gossiping/M.1607072111.A.103.html\">[新聞] 土地公變財神爺？土地重劃 信徒花2千萬要</a>\n",
            "\t\t\t\n",
            "\t\t\t</div>\n",
            "\t\t\t<div class=\"meta\">\n",
            "\t\t\t\t<div class=\"author\">lovily</div>\n",
            "\t\t\t\t<div class=\"article-menu\">\n",
            "\t\t\t\t\t\n",
            "\t\t\t\t\t<div class=\"trigger\">&#x22ef;</div>\n",
            "\t\t\t\t\t<div class=\"dropdown\">\n",
            "\t\t\t\t\t\t<div class=\"item\"><a href=\"/bbs/Gossiping/search?q=thread%3A%5B%E6%96%B0%E8%81%9E%5D&#43;%E5%9C%9F%E5%9C%B0%E5%85%AC%E8%AE%8A%E8%B2%A1%E7%A5%9E%E7%88%BA%EF%BC%9F%E5%9C%9F%E5%9C%B0%E9%87%8D%E5%8A%83&#43;%E4%BF%A1%E5%BE%92%E8%8A%B12%E5%8D%83%E8%90%AC%E8%A6%81\">搜尋同標題文章</a></div>\n",
            "\t\t\t\t\t\t\n",
            "\t\t\t\t\t\t<div class=\"item\"><a href=\"/bbs/Gossiping/search?q=author%3Alovily\">搜尋看板內 lovily 的文章</a></div>\n",
            "\t\t\t\t\t\t\n",
            "\t\t\t\t\t</div>\n",
            "\t\t\t\t\t\n",
            "\t\t\t\t</div>\n",
            "\t\t\t\t<div class=\"date\">12/04</div>\n",
            "\t\t\t\t<div class=\"mark\"></div>\n",
            "\t\t\t</div>\n",
            "\t\t</div>\n",
            "\n",
            "\t\t\n",
            "            \n",
            "        \n",
            "        \n",
            "\t\t<div class=\"r-ent\">\n",
            "\t\t\t<div class=\"nrec\"><span class=\"hl f2\">1</span></div>\n",
            "\t\t\t<div class=\"title\">\n",
            "\t\t\t\n",
            "\t\t\t\t<a href=\"/bbs/Gossiping/M.1607072267.A.BA9.html\">Re: [問卦] 這兩個月是不是一堆人結婚啊</a>\n",
            "\t\t\t\n",
            "\t\t\t</div>\n",
            "\t\t\t<div class=\"meta\">\n",
            "\t\t\t\t<div class=\"author\">chirex</div>\n",
            "\t\t\t\t<div class=\"article-menu\">\n",
            "\t\t\t\t\t\n",
            "\t\t\t\t\t<div class=\"trigger\">&#x22ef;</div>\n",
            "\t\t\t\t\t<div class=\"dropdown\">\n",
            "\t\t\t\t\t\t<div class=\"item\"><a href=\"/bbs/Gossiping/search?q=thread%3A%5B%E5%95%8F%E5%8D%A6%5D&#43;%E9%80%99%E5%85%A9%E5%80%8B%E6%9C%88%E6%98%AF%E4%B8%8D%E6%98%AF%E4%B8%80%E5%A0%86%E4%BA%BA%E7%B5%90%E5%A9%9A%E5%95%8A\">搜尋同標題文章</a></div>\n",
            "\t\t\t\t\t\t\n",
            "\t\t\t\t\t\t<div class=\"item\"><a href=\"/bbs/Gossiping/search?q=author%3Achirex\">搜尋看板內 chirex 的文章</a></div>\n",
            "\t\t\t\t\t\t\n",
            "\t\t\t\t\t</div>\n",
            "\t\t\t\t\t\n",
            "\t\t\t\t</div>\n",
            "\t\t\t\t<div class=\"date\">12/04</div>\n",
            "\t\t\t\t<div class=\"mark\"></div>\n",
            "\t\t\t</div>\n",
            "\t\t</div>\n",
            "\n",
            "\t\t\n",
            "            \n",
            "        \n",
            "        \n",
            "\t\t<div class=\"r-ent\">\n",
            "\t\t\t<div class=\"nrec\"><span class=\"hl f2\">1</span></div>\n",
            "\t\t\t<div class=\"title\">\n",
            "\t\t\t\n",
            "\t\t\t\t<a href=\"/bbs/Gossiping/M.1607072315.A.11B.html\">[新聞] 黃捷促成立職棒隊 陳其邁：先爭取一軍賽</a>\n",
            "\t\t\t\n",
            "\t\t\t</div>\n",
            "\t\t\t<div class=\"meta\">\n",
            "\t\t\t\t<div class=\"author\">davidex</div>\n",
            "\t\t\t\t<div class=\"article-menu\">\n",
            "\t\t\t\t\t\n",
            "\t\t\t\t\t<div class=\"trigger\">&#x22ef;</div>\n",
            "\t\t\t\t\t<div class=\"dropdown\">\n",
            "\t\t\t\t\t\t<div class=\"item\"><a href=\"/bbs/Gossiping/search?q=thread%3A%5B%E6%96%B0%E8%81%9E%5D&#43;%E9%BB%83%E6%8D%B7%E4%BF%83%E6%88%90%E7%AB%8B%E8%81%B7%E6%A3%92%E9%9A%8A&#43;%E9%99%B3%E5%85%B6%E9%82%81%EF%BC%9A%E5%85%88%E7%88%AD%E5%8F%96%E4%B8%80%E8%BB%8D%E8%B3%BD\">搜尋同標題文章</a></div>\n",
            "\t\t\t\t\t\t\n",
            "\t\t\t\t\t\t<div class=\"item\"><a href=\"/bbs/Gossiping/search?q=author%3Adavidex\">搜尋看板內 davidex 的文章</a></div>\n",
            "\t\t\t\t\t\t\n",
            "\t\t\t\t\t</div>\n",
            "\t\t\t\t\t\n",
            "\t\t\t\t</div>\n",
            "\t\t\t\t<div class=\"date\">12/04</div>\n",
            "\t\t\t\t<div class=\"mark\"></div>\n",
            "\t\t\t</div>\n",
            "\t\t</div>\n",
            "\n",
            "\t\t\n",
            "            \n",
            "        \n",
            "        \n",
            "\t\t<div class=\"r-ent\">\n",
            "\t\t\t<div class=\"nrec\"><span class=\"hl f2\">3</span></div>\n",
            "\t\t\t<div class=\"title\">\n",
            "\t\t\t\n",
            "\t\t\t\t<a href=\"/bbs/Gossiping/M.1607072317.A.D7B.html\">[問卦] 為什麼日本看不到鐵窗台灣卻一堆？</a>\n",
            "\t\t\t\n",
            "\t\t\t</div>\n",
            "\t\t\t<div class=\"meta\">\n",
            "\t\t\t\t<div class=\"author\">NTULioner</div>\n",
            "\t\t\t\t<div class=\"article-menu\">\n",
            "\t\t\t\t\t\n",
            "\t\t\t\t\t<div class=\"trigger\">&#x22ef;</div>\n",
            "\t\t\t\t\t<div class=\"dropdown\">\n",
            "\t\t\t\t\t\t<div class=\"item\"><a href=\"/bbs/Gossiping/search?q=thread%3A%5B%E5%95%8F%E5%8D%A6%5D&#43;%E7%82%BA%E4%BB%80%E9%BA%BC%E6%97%A5%E6%9C%AC%E7%9C%8B%E4%B8%8D%E5%88%B0%E9%90%B5%E7%AA%97%E5%8F%B0%E7%81%A3%E5%8D%BB%E4%B8%80%E5%A0%86%EF%BC%9F\">搜尋同標題文章</a></div>\n",
            "\t\t\t\t\t\t\n",
            "\t\t\t\t\t\t<div class=\"item\"><a href=\"/bbs/Gossiping/search?q=author%3ANTULioner\">搜尋看板內 NTULioner 的文章</a></div>\n",
            "\t\t\t\t\t\t\n",
            "\t\t\t\t\t</div>\n",
            "\t\t\t\t\t\n",
            "\t\t\t\t</div>\n",
            "\t\t\t\t<div class=\"date\">12/04</div>\n",
            "\t\t\t\t<div class=\"mark\"></div>\n",
            "\t\t\t</div>\n",
            "\t\t</div>\n",
            "\n",
            "\t\t\n",
            "            \n",
            "        \n",
            "        \n",
            "\t\t<div class=\"r-ent\">\n",
            "\t\t\t<div class=\"nrec\"><span class=\"hl f2\">3</span></div>\n",
            "\t\t\t<div class=\"title\">\n",
            "\t\t\t\n",
            "\t\t\t\t<a href=\"/bbs/Gossiping/M.1607072338.A.0FD.html\">[問卦] 為何飲料的利潤會高於餐點??</a>\n",
            "\t\t\t\n",
            "\t\t\t</div>\n",
            "\t\t\t<div class=\"meta\">\n",
            "\t\t\t\t<div class=\"author\">filmystery</div>\n",
            "\t\t\t\t<div class=\"article-menu\">\n",
            "\t\t\t\t\t\n",
            "\t\t\t\t\t<div class=\"trigger\">&#x22ef;</div>\n",
            "\t\t\t\t\t<div class=\"dropdown\">\n",
            "\t\t\t\t\t\t<div class=\"item\"><a href=\"/bbs/Gossiping/search?q=thread%3A%5B%E5%95%8F%E5%8D%A6%5D&#43;%E7%82%BA%E4%BD%95%E9%A3%B2%E6%96%99%E7%9A%84%E5%88%A9%E6%BD%A4%E6%9C%83%E9%AB%98%E6%96%BC%E9%A4%90%E9%BB%9E%3F%3F\">搜尋同標題文章</a></div>\n",
            "\t\t\t\t\t\t\n",
            "\t\t\t\t\t\t<div class=\"item\"><a href=\"/bbs/Gossiping/search?q=author%3Afilmystery\">搜尋看板內 filmystery 的文章</a></div>\n",
            "\t\t\t\t\t\t\n",
            "\t\t\t\t\t</div>\n",
            "\t\t\t\t\t\n",
            "\t\t\t\t</div>\n",
            "\t\t\t\t<div class=\"date\">12/04</div>\n",
            "\t\t\t\t<div class=\"mark\"></div>\n",
            "\t\t\t</div>\n",
            "\t\t</div>\n",
            "\n",
            "\t\t\n",
            "            \n",
            "        \n",
            "        \n",
            "\t\t<div class=\"r-ent\">\n",
            "\t\t\t<div class=\"nrec\"><span class=\"hl f2\">1</span></div>\n",
            "\t\t\t<div class=\"title\">\n",
            "\t\t\t\n",
            "\t\t\t\t<a href=\"/bbs/Gossiping/M.1607072401.A.13B.html\">[問卦] 在寒暑假生日的女森也跟肥宅一樣悲慘嗎？</a>\n",
            "\t\t\t\n",
            "\t\t\t</div>\n",
            "\t\t\t<div class=\"meta\">\n",
            "\t\t\t\t<div class=\"author\">js52666</div>\n",
            "\t\t\t\t<div class=\"article-menu\">\n",
            "\t\t\t\t\t\n",
            "\t\t\t\t\t<div class=\"trigger\">&#x22ef;</div>\n",
            "\t\t\t\t\t<div class=\"dropdown\">\n",
            "\t\t\t\t\t\t<div class=\"item\"><a href=\"/bbs/Gossiping/search?q=thread%3A%5B%E5%95%8F%E5%8D%A6%5D&#43;%E5%9C%A8%E5%AF%92%E6%9A%91%E5%81%87%E7%94%9F%E6%97%A5%E7%9A%84%E5%A5%B3%E6%A3%AE%E4%B9%9F%E8%B7%9F%E8%82%A5%E5%AE%85%E4%B8%80%E6%A8%A3%E6%82%B2%E6%85%98%E5%97%8E%EF%BC%9F\">搜尋同標題文章</a></div>\n",
            "\t\t\t\t\t\t\n",
            "\t\t\t\t\t\t<div class=\"item\"><a href=\"/bbs/Gossiping/search?q=author%3Ajs52666\">搜尋看板內 js52666 的文章</a></div>\n",
            "\t\t\t\t\t\t\n",
            "\t\t\t\t\t</div>\n",
            "\t\t\t\t\t\n",
            "\t\t\t\t</div>\n",
            "\t\t\t\t<div class=\"date\">12/04</div>\n",
            "\t\t\t\t<div class=\"mark\"></div>\n",
            "\t\t\t</div>\n",
            "\t\t</div>\n",
            "\n",
            "\t\t\n",
            "            \n",
            "        \n",
            "        \n",
            "\t\t<div class=\"r-ent\">\n",
            "\t\t\t<div class=\"nrec\"></div>\n",
            "\t\t\t<div class=\"title\">\n",
            "\t\t\t\n",
            "\t\t\t\t<a href=\"/bbs/Gossiping/M.1607072447.A.866.html\">Re: [問卦] 慘慘慘,台股14,132！現在跑來得及嗎？</a>\n",
            "\t\t\t\n",
            "\t\t\t</div>\n",
            "\t\t\t<div class=\"meta\">\n",
            "\t\t\t\t<div class=\"author\">STAV72</div>\n",
            "\t\t\t\t<div class=\"article-menu\">\n",
            "\t\t\t\t\t\n",
            "\t\t\t\t\t<div class=\"trigger\">&#x22ef;</div>\n",
            "\t\t\t\t\t<div class=\"dropdown\">\n",
            "\t\t\t\t\t\t<div class=\"item\"><a href=\"/bbs/Gossiping/search?q=thread%3A%5B%E5%95%8F%E5%8D%A6%5D&#43;%E6%85%98%E6%85%98%E6%85%98%2C%E5%8F%B0%E8%82%A114%2C132%EF%BC%81%E7%8F%BE%E5%9C%A8%E8%B7%91%E4%BE%86%E5%BE%97%E5%8F%8A%E5%97%8E%EF%BC%9F\">搜尋同標題文章</a></div>\n",
            "\t\t\t\t\t\t\n",
            "\t\t\t\t\t\t<div class=\"item\"><a href=\"/bbs/Gossiping/search?q=author%3ASTAV72\">搜尋看板內 STAV72 的文章</a></div>\n",
            "\t\t\t\t\t\t\n",
            "\t\t\t\t\t</div>\n",
            "\t\t\t\t\t\n",
            "\t\t\t\t</div>\n",
            "\t\t\t\t<div class=\"date\">12/04</div>\n",
            "\t\t\t\t<div class=\"mark\"></div>\n",
            "\t\t\t</div>\n",
            "\t\t</div>\n",
            "\n",
            "\t\t\n",
            "        \n",
            "        <div class=\"r-list-sep\"></div>\n",
            "            \n",
            "                \n",
            "        \n",
            "        \n",
            "\t\t<div class=\"r-ent\">\n",
            "\t\t\t<div class=\"nrec\"></div>\n",
            "\t\t\t<div class=\"title\">\n",
            "\t\t\t\n",
            "\t\t\t\t<a href=\"/bbs/Gossiping/M.1605971507.A.5C4.html\">[公告] 八卦板板規(2020.11.21)</a>\n",
            "\t\t\t\n",
            "\t\t\t</div>\n",
            "\t\t\t<div class=\"meta\">\n",
            "\t\t\t\t<div class=\"author\">arsonlolita</div>\n",
            "\t\t\t\t<div class=\"article-menu\">\n",
            "\t\t\t\t\t\n",
            "\t\t\t\t\t<div class=\"trigger\">&#x22ef;</div>\n",
            "\t\t\t\t\t<div class=\"dropdown\">\n",
            "\t\t\t\t\t\t<div class=\"item\"><a href=\"/bbs/Gossiping/search?q=thread%3A%5B%E5%85%AC%E5%91%8A%5D&#43;%E5%85%AB%E5%8D%A6%E6%9D%BF%E6%9D%BF%E8%A6%8F%282020.11.21%29\">搜尋同標題文章</a></div>\n",
            "\t\t\t\t\t\t\n",
            "\t\t\t\t\t\t<div class=\"item\"><a href=\"/bbs/Gossiping/search?q=author%3Aarsonlolita\">搜尋看板內 arsonlolita 的文章</a></div>\n",
            "\t\t\t\t\t\t\n",
            "\t\t\t\t\t</div>\n",
            "\t\t\t\t\t\n",
            "\t\t\t\t</div>\n",
            "\t\t\t\t<div class=\"date\">11/21</div>\n",
            "\t\t\t\t<div class=\"mark\">!</div>\n",
            "\t\t\t</div>\n",
            "\t\t</div>\n",
            "\n",
            "            \n",
            "                \n",
            "        \n",
            "        \n",
            "\t\t<div class=\"r-ent\">\n",
            "\t\t\t<div class=\"nrec\"><span class=\"hl f3\">30</span></div>\n",
            "\t\t\t<div class=\"title\">\n",
            "\t\t\t\n",
            "\t\t\t\t<a href=\"/bbs/Gossiping/M.1606499666.A.CBB.html\">[協尋] 11/23晚間 東勢往卓蘭行車記錄器</a>\n",
            "\t\t\t\n",
            "\t\t\t</div>\n",
            "\t\t\t<div class=\"meta\">\n",
            "\t\t\t\t<div class=\"author\">ding88510</div>\n",
            "\t\t\t\t<div class=\"article-menu\">\n",
            "\t\t\t\t\t\n",
            "\t\t\t\t\t<div class=\"trigger\">&#x22ef;</div>\n",
            "\t\t\t\t\t<div class=\"dropdown\">\n",
            "\t\t\t\t\t\t<div class=\"item\"><a href=\"/bbs/Gossiping/search?q=thread%3A%5B%E5%8D%94%E5%B0%8B%5D&#43;11%2F23%E6%99%9A%E9%96%93&#43;%E6%9D%B1%E5%8B%A2%E5%BE%80%E5%8D%93%E8%98%AD%E8%A1%8C%E8%BB%8A%E8%A8%98%E9%8C%84%E5%99%A8\">搜尋同標題文章</a></div>\n",
            "\t\t\t\t\t\t\n",
            "\t\t\t\t\t\t<div class=\"item\"><a href=\"/bbs/Gossiping/search?q=author%3Ading88510\">搜尋看板內 ding88510 的文章</a></div>\n",
            "\t\t\t\t\t\t\n",
            "\t\t\t\t\t</div>\n",
            "\t\t\t\t\t\n",
            "\t\t\t\t</div>\n",
            "\t\t\t\t<div class=\"date\">11/28</div>\n",
            "\t\t\t\t<div class=\"mark\">M</div>\n",
            "\t\t\t</div>\n",
            "\t\t</div>\n",
            "\n",
            "            \n",
            "                \n",
            "        \n",
            "        \n",
            "\t\t<div class=\"r-ent\">\n",
            "\t\t\t<div class=\"nrec\"><span class=\"hl f3\">24</span></div>\n",
            "\t\t\t<div class=\"title\">\n",
            "\t\t\t\n",
            "\t\t\t\t<a href=\"/bbs/Gossiping/M.1606750937.A.08A.html\">[協尋] 11/30宜蘭軍民/長春路口行車記錄器</a>\n",
            "\t\t\t\n",
            "\t\t\t</div>\n",
            "\t\t\t<div class=\"meta\">\n",
            "\t\t\t\t<div class=\"author\">dmeiki</div>\n",
            "\t\t\t\t<div class=\"article-menu\">\n",
            "\t\t\t\t\t\n",
            "\t\t\t\t\t<div class=\"trigger\">&#x22ef;</div>\n",
            "\t\t\t\t\t<div class=\"dropdown\">\n",
            "\t\t\t\t\t\t<div class=\"item\"><a href=\"/bbs/Gossiping/search?q=thread%3A%5B%E5%8D%94%E5%B0%8B%5D&#43;11%2F30%E5%AE%9C%E8%98%AD%E8%BB%8D%E6%B0%91%2F%E9%95%B7%E6%98%A5%E8%B7%AF%E5%8F%A3%E8%A1%8C%E8%BB%8A%E8%A8%98%E9%8C%84%E5%99%A8\">搜尋同標題文章</a></div>\n",
            "\t\t\t\t\t\t\n",
            "\t\t\t\t\t\t<div class=\"item\"><a href=\"/bbs/Gossiping/search?q=author%3Admeiki\">搜尋看板內 dmeiki 的文章</a></div>\n",
            "\t\t\t\t\t\t\n",
            "\t\t\t\t\t</div>\n",
            "\t\t\t\t\t\n",
            "\t\t\t\t</div>\n",
            "\t\t\t\t<div class=\"date\">11/30</div>\n",
            "\t\t\t\t<div class=\"mark\"></div>\n",
            "\t\t\t</div>\n",
            "\t\t</div>\n",
            "\n",
            "            \n",
            "                \n",
            "        \n",
            "        \n",
            "\t\t<div class=\"r-ent\">\n",
            "\t\t\t<div class=\"nrec\"><span class=\"hl f2\">9</span></div>\n",
            "\t\t\t<div class=\"title\">\n",
            "\t\t\t\n",
            "\t\t\t\t<a href=\"/bbs/Gossiping/M.1606823144.A.CB0.html\">[公告] 十二鬼月置底閒聊區</a>\n",
            "\t\t\t\n",
            "\t\t\t</div>\n",
            "\t\t\t<div class=\"meta\">\n",
            "\t\t\t\t<div class=\"author\">ubcs</div>\n",
            "\t\t\t\t<div class=\"article-menu\">\n",
            "\t\t\t\t\t\n",
            "\t\t\t\t\t<div class=\"trigger\">&#x22ef;</div>\n",
            "\t\t\t\t\t<div class=\"dropdown\">\n",
            "\t\t\t\t\t\t<div class=\"item\"><a href=\"/bbs/Gossiping/search?q=thread%3A%5B%E5%85%AC%E5%91%8A%5D&#43;%E5%8D%81%E4%BA%8C%E9%AC%BC%E6%9C%88%E7%BD%AE%E5%BA%95%E9%96%92%E8%81%8A%E5%8D%80\">搜尋同標題文章</a></div>\n",
            "\t\t\t\t\t\t\n",
            "\t\t\t\t\t\t<div class=\"item\"><a href=\"/bbs/Gossiping/search?q=author%3Aubcs\">搜尋看板內 ubcs 的文章</a></div>\n",
            "\t\t\t\t\t\t\n",
            "\t\t\t\t\t</div>\n",
            "\t\t\t\t\t\n",
            "\t\t\t\t</div>\n",
            "\t\t\t\t<div class=\"date\">12/01</div>\n",
            "\t\t\t\t<div class=\"mark\">M</div>\n",
            "\t\t\t</div>\n",
            "\t\t</div>\n",
            "\n",
            "            \n",
            "                \n",
            "        \n",
            "        \n",
            "\t\t<div class=\"r-ent\">\n",
            "\t\t\t<div class=\"nrec\"><span class=\"hl f3\">16</span></div>\n",
            "\t\t\t<div class=\"title\">\n",
            "\t\t\t\n",
            "\t\t\t\t<a href=\"/bbs/Gossiping/M.1606584103.A.C36.html\">[協尋] 11/26 鹿港建國路17:30-18:00行車記錄器</a>\n",
            "\t\t\t\n",
            "\t\t\t</div>\n",
            "\t\t\t<div class=\"meta\">\n",
            "\t\t\t\t<div class=\"author\">kobe143</div>\n",
            "\t\t\t\t<div class=\"article-menu\">\n",
            "\t\t\t\t\t\n",
            "\t\t\t\t\t<div class=\"trigger\">&#x22ef;</div>\n",
            "\t\t\t\t\t<div class=\"dropdown\">\n",
            "\t\t\t\t\t\t<div class=\"item\"><a href=\"/bbs/Gossiping/search?q=thread%3A%5B%E5%8D%94%E5%B0%8B%5D&#43;11%2F26&#43;%E9%B9%BF%E6%B8%AF%E5%BB%BA%E5%9C%8B%E8%B7%AF17%3A30-18%3A00%E8%A1%8C%E8%BB%8A%E8%A8%98%E9%8C%84%E5%99%A8\">搜尋同標題文章</a></div>\n",
            "\t\t\t\t\t\t\n",
            "\t\t\t\t\t\t<div class=\"item\"><a href=\"/bbs/Gossiping/search?q=author%3Akobe143\">搜尋看板內 kobe143 的文章</a></div>\n",
            "\t\t\t\t\t\t\n",
            "\t\t\t\t\t</div>\n",
            "\t\t\t\t\t\n",
            "\t\t\t\t</div>\n",
            "\t\t\t\t<div class=\"date\">11/29</div>\n",
            "\t\t\t\t<div class=\"mark\">M</div>\n",
            "\t\t\t</div>\n",
            "\t\t</div>\n",
            "\n",
            "            \n",
            "        \n",
            "\t</div>\n",
            "\n",
            "    \n",
            "<div class=\"bbs-screen bbs-footer-message\">本網站已依台灣網站內容分級規定處理。此區域為限制級，未滿十八歲者不得瀏覽。</div>\n",
            "\n",
            "</div>\n",
            "\n",
            "\t\t\n",
            "\n",
            "<script>\n",
            "  (function(i,s,o,g,r,a,m){i['GoogleAnalyticsObject']=r;i[r]=i[r]||function(){\n",
            "  (i[r].q=i[r].q||[]).push(arguments)},i[r].l=1*new Date();a=s.createElement(o),\n",
            "  m=s.getElementsByTagName(o)[0];a.async=1;a.src=g;m.parentNode.insertBefore(a,m)\n",
            "  })(window,document,'script','https://www.google-analytics.com/analytics.js','ga');\n",
            "\n",
            "  ga('create', 'UA-32365737-1', {\n",
            "    cookieDomain: 'ptt.cc',\n",
            "    legacyCookieDomain: 'ptt.cc'\n",
            "  });\n",
            "  ga('send', 'pageview');\n",
            "</script>\n",
            "\n",
            "\n",
            "\t\t\n",
            "<script src=\"//ajax.googleapis.com/ajax/libs/jquery/2.1.1/jquery.min.js\"></script>\n",
            "<script src=\"//images.ptt.cc/bbs/v2.27/bbs.js\"></script>\n",
            "\n",
            "    </body>\n",
            "</html>\n",
            "\n"
          ],
          "name": "stdout"
        }
      ]
    },
    {
      "cell_type": "code",
      "metadata": {
        "id": "AeE9bySBHxuP",
        "colab": {
          "base_uri": "https://localhost:8080/"
        },
        "outputId": "833fd1b9-2868-4342-eafa-ef68b592c51a"
      },
      "source": [
        "import requests\n",
        "from bs4 import BeautifulSoup\n",
        "en_cookie = {\n",
        "    'COOKIE_LANGUAGE': 'en'\n",
        "}\n",
        "\n",
        "response = requests.get(\"http://www.fantasy-sky.com/ContentList.aspx?section=002\", cookies=en_cookie)\n",
        "soup = BeautifulSoup(response.text)\n",
        "movie_titles = [i.text for i in soup.select(\".movies-name\")]\n",
        "print(movie_titles)"
      ],
      "execution_count": null,
      "outputs": [
        {
          "output_type": "stream",
          "text": [
            "['Radioactive', 'Can You Keep a Secret?', 'Extra Ordinary', 'Downhill', 'Scoob!', 'True History of the Kelly Gang', 'Human Capital', 'How to Build a Girl', 'Birds of Prey', 'The Way Back', 'Sea of Shadows', 'Impractical Jokers…', 'Sheep Without A Shepherd', 'White Snake', 'Escape From Pretoria', 'Hope Gap', 'The Realm', 'Bharat', 'Kaguya-sama：Love is War']\n"
          ],
          "name": "stdout"
        }
      ]
    },
    {
      "cell_type": "code",
      "metadata": {
        "id": "6yMNpOHBJOx4",
        "colab": {
          "base_uri": "https://localhost:8080/",
          "height": 274
        },
        "outputId": "19e176dc-aa0c-4db5-d7e9-8c5f52dfcbe7"
      },
      "source": [
        "#隨堂練習：擷取所有華航機上電影清單\n",
        "!pip install -U beautifulsoup4"
      ],
      "execution_count": null,
      "outputs": [
        {
          "output_type": "stream",
          "text": [
            "Collecting beautifulsoup4\n",
            "\u001b[?25l  Downloading https://files.pythonhosted.org/packages/d1/41/e6495bd7d3781cee623ce23ea6ac73282a373088fcd0ddc809a047b18eae/beautifulsoup4-4.9.3-py3-none-any.whl (115kB)\n",
            "\r\u001b[K     |██▉                             | 10kB 23.3MB/s eta 0:00:01\r\u001b[K     |█████▋                          | 20kB 17.0MB/s eta 0:00:01\r\u001b[K     |████████▌                       | 30kB 15.1MB/s eta 0:00:01\r\u001b[K     |███████████▎                    | 40kB 14.1MB/s eta 0:00:01\r\u001b[K     |██████████████▏                 | 51kB 11.7MB/s eta 0:00:01\r\u001b[K     |█████████████████               | 61kB 10.7MB/s eta 0:00:01\r\u001b[K     |███████████████████▉            | 71kB 11.8MB/s eta 0:00:01\r\u001b[K     |██████████████████████▋         | 81kB 11.8MB/s eta 0:00:01\r\u001b[K     |█████████████████████████▌      | 92kB 10.1MB/s eta 0:00:01\r\u001b[K     |████████████████████████████▎   | 102kB 11.0MB/s eta 0:00:01\r\u001b[K     |███████████████████████████████▏| 112kB 11.0MB/s eta 0:00:01\r\u001b[K     |████████████████████████████████| 122kB 11.0MB/s \n",
            "\u001b[?25hCollecting soupsieve>1.2; python_version >= \"3.0\"\n",
            "  Downloading https://files.pythonhosted.org/packages/6f/8f/457f4a5390eeae1cc3aeab89deb7724c965be841ffca6cfca9197482e470/soupsieve-2.0.1-py3-none-any.whl\n",
            "Installing collected packages: soupsieve, beautifulsoup4\n",
            "  Found existing installation: beautifulsoup4 4.6.3\n",
            "    Uninstalling beautifulsoup4-4.6.3:\n",
            "      Successfully uninstalled beautifulsoup4-4.6.3\n",
            "Successfully installed beautifulsoup4-4.9.3 soupsieve-2.0.1\n"
          ],
          "name": "stdout"
        },
        {
          "output_type": "display_data",
          "data": {
            "application/vnd.colab-display-data+json": {
              "pip_warning": {
                "packages": [
                  "bs4"
                ]
              }
            }
          },
          "metadata": {
            "tags": []
          }
        }
      ]
    },
    {
      "cell_type": "code",
      "metadata": {
        "id": "-RfQZLh-Ni8A"
      },
      "source": [
        "import requests\n",
        "from bs4 import BeautifulSoup"
      ],
      "execution_count": null,
      "outputs": []
    },
    {
      "cell_type": "code",
      "metadata": {
        "id": "gYmlj9JlNtWY",
        "colab": {
          "base_uri": "https://localhost:8080/"
        },
        "outputId": "d60e97a3-aca7-4092-a52a-cbbf16f9dcfe"
      },
      "source": [
        "request_url = \"http://www.fantasy-sky.com/ContentList.aspx\"\n",
        "en_cookie = {\n",
        "    'COOKIE_LANGUAGE': 'en'\n",
        "}\n",
        "movies_name_cs = \".movies-name\"\n",
        "for i in range(1, 5):\n",
        "    query_string_parameters = {\n",
        "        'section': '002',\n",
        "        'category': '0020{}'.format(i)\n",
        "    }\n",
        "    response = requests.get(request_url, params=query_string_parameters, cookies=en_cookie)\n",
        "    soup = BeautifulSoup(response.text)\n",
        "    movies_name = [e.text for e in soup.select(movies_name_cs)]\n",
        "    print(query_string_parameters)\n",
        "    print(movies_name)"
      ],
      "execution_count": null,
      "outputs": [
        {
          "output_type": "stream",
          "text": [
            "{'section': '002', 'category': '00201'}\n",
            "['Radioactive', 'Can You Keep a Secret?', 'Extra Ordinary', 'Downhill', 'Scoob!', 'True History of the Kelly Gang', 'Human Capital', 'How to Build a Girl', 'Birds of Prey', 'The Way Back', 'Sea of Shadows', 'Impractical Jokers…', 'Sheep Without A Shepherd', 'White Snake', 'Escape From Pretoria', 'Hope Gap', 'The Realm', 'Bharat', 'Kaguya-sama：Love is War']\n",
            "{'section': '002', 'category': '00202'}\n",
            "['Trolls', 'The Lego Movie 2…', 'Frozen', 'Disney and Pixar’s Finding Dory', 'Disney and Pixar’s The Good Dinosaur', 'Big Hero 6', 'Disney and Pixar’s Coco', 'Disney and Pixar’s Incredibles 2', 'Night at the Museum: Secret…', 'The Book of Life']\n",
            "{'section': '002', 'category': '00203'}\n",
            "['Flowers of Shanghai', 'The Gangs, the Oscars…', 'CRAYON SHINCHAN Movie…', 'Our Mothers']\n",
            "{'section': '002', 'category': '00204'}\n",
            "['Aquaman', 'Hidden Figures', 'Mad Max: Fury Road', 'Rogue One: A Star Wars Story', 'Three Billboards Outside…', 'X-Men: Apocalypse', 'Love the Coopers', 'Goodbye Christopher Robin', 'Love Actually', 'R.I.P.D.', 'Kingsman: The Secret Service', 'Ocean’s 8', 'Tomorrowland', 'Ready Player One', 'Tomb Raider', 'The Greatest Showman', 'The Iron Lady', 'Beauty and the Beast', 'Get Out', 'The Holiday', 'The Revenant', 'Catch Me If You Can', 'John Wick: Chapter 3…', 'Bridge of Spies', 'London Has Fallen', 'The Great Gatsby', 'The Post', 'The Help', 'Jumanji: Welcome to the Jungle', 'The Hobbit: The Battle Of…', 'Star Wars: The Force Awakens', 'Me Before You', 'Star Wars: The Last…', 'Furious 7', 'The Fate of the Furious', 'The Imitation Game', 'Her', 'Inception', 'Oblivion', 'Our Brand Is Crisis']\n"
          ],
          "name": "stdout"
        }
      ]
    },
    {
      "cell_type": "code",
      "metadata": {
        "id": "F5Yk1_tfN9J_",
        "colab": {
          "base_uri": "https://localhost:8080/"
        },
        "outputId": "25744f47-7497-4719-e440-a614d5f52467"
      },
      "source": [
        "list_1 = [55, 66, 5566]\n",
        "list_2 = [77, 88, 7788]\n",
        "list_1.append(list_2)\n",
        "print(list_1)"
      ],
      "execution_count": null,
      "outputs": [
        {
          "output_type": "stream",
          "text": [
            "[55, 66, 5566, [77, 88, 7788]]\n"
          ],
          "name": "stdout"
        }
      ]
    },
    {
      "cell_type": "code",
      "metadata": {
        "id": "ogwVnhOw1yuj",
        "colab": {
          "base_uri": "https://localhost:8080/"
        },
        "outputId": "d813e9bb-d660-4e9c-88d6-107c281d6664"
      },
      "source": [
        "list_3 = list_1 + list_2\n",
        "print(list_3)"
      ],
      "execution_count": null,
      "outputs": [
        {
          "output_type": "stream",
          "text": [
            "[55, 66, 5566, [77, 88, 7788], 77, 88, 7788]\n"
          ],
          "name": "stdout"
        }
      ]
    },
    {
      "cell_type": "code",
      "metadata": {
        "id": "AQhMY9FJ19MS",
        "colab": {
          "base_uri": "https://localhost:8080/"
        },
        "outputId": "c4034ffe-a7d7-4e92-aff0-24cf0bc229de"
      },
      "source": [
        "request_url = \"http://www.fantasy-sky.com/ContentList.aspx\"\n",
        "en_cookie = {\n",
        "    'COOKIE_LANGUAGE': 'en'\n",
        "}\n",
        "movies_name_cs = \".movies-name\"\n",
        "ca_movie_titles = []\n",
        "for i in range(1, 5):\n",
        "    query_string_parameters = {\n",
        "        'section': '002',\n",
        "        'category': '0020{}'.format(i)\n",
        "    }\n",
        "    response = requests.get(request_url, params=query_string_parameters, cookies=en_cookie)\n",
        "    soup = BeautifulSoup(response.text)\n",
        "    movies_name = [e.text for e in soup.select(movies_name_cs)]\n",
        "    ca_movie_titles += movies_name\n",
        "print(len(ca_movie_titles))\n",
        "print(ca_movie_titles)"
      ],
      "execution_count": null,
      "outputs": [
        {
          "output_type": "stream",
          "text": [
            "73\n",
            "['Radioactive', 'Can You Keep a Secret?', 'Extra Ordinary', 'Downhill', 'Scoob!', 'True History of the Kelly Gang', 'Human Capital', 'How to Build a Girl', 'Birds of Prey', 'The Way Back', 'Sea of Shadows', 'Impractical Jokers…', 'Sheep Without A Shepherd', 'White Snake', 'Escape From Pretoria', 'Hope Gap', 'The Realm', 'Bharat', 'Kaguya-sama：Love is War', 'Trolls', 'The Lego Movie 2…', 'Frozen', 'Disney and Pixar’s Finding Dory', 'Disney and Pixar’s The Good Dinosaur', 'Big Hero 6', 'Disney and Pixar’s Coco', 'Disney and Pixar’s Incredibles 2', 'Night at the Museum: Secret…', 'The Book of Life', 'Flowers of Shanghai', 'The Gangs, the Oscars…', 'CRAYON SHINCHAN Movie…', 'Our Mothers', 'Aquaman', 'Hidden Figures', 'Mad Max: Fury Road', 'Rogue One: A Star Wars Story', 'Three Billboards Outside…', 'X-Men: Apocalypse', 'Love the Coopers', 'Goodbye Christopher Robin', 'Love Actually', 'R.I.P.D.', 'Kingsman: The Secret Service', 'Ocean’s 8', 'Tomorrowland', 'Ready Player One', 'Tomb Raider', 'The Greatest Showman', 'The Iron Lady', 'Beauty and the Beast', 'Get Out', 'The Holiday', 'The Revenant', 'Catch Me If You Can', 'John Wick: Chapter 3…', 'Bridge of Spies', 'London Has Fallen', 'The Great Gatsby', 'The Post', 'The Help', 'Jumanji: Welcome to the Jungle', 'The Hobbit: The Battle Of…', 'Star Wars: The Force Awakens', 'Me Before You', 'Star Wars: The Last…', 'Furious 7', 'The Fate of the Furious', 'The Imitation Game', 'Her', 'Inception', 'Oblivion', 'Our Brand Is Crisis']\n"
          ],
          "name": "stdout"
        }
      ]
    },
    {
      "cell_type": "code",
      "metadata": {
        "id": "eVX5Zjb82nGG"
      },
      "source": [
        "#隨堂練習：找出華航機上最高評等的電影\n",
        "def get_movie_data(search_movie_title):\n",
        "  result_text_cs = \".result_text > a\"  \n",
        "  movie_title_cs = \"h1\"\n",
        "  movie_poster_cs = \".poster img\"\n",
        "  movie_rating_cs =\"strong span\"\n",
        "  movie_genre_cs = \".subtext a\"\n",
        "  movie_cast_cs =\".primary_photo+ td a\"\n",
        "  # 1st request and parse: movie_url\n",
        "  query_string_parameters = {\n",
        "    'q': search_movie_title,\n",
        "    'ref_': 'nv_sr_sm'\n",
        "  }\n",
        "  request_url = \"https://www.imdb.com/find\"\n",
        "  response = requests.get(request_url, params=query_string_parameters)\n",
        "  soup = BeautifulSoup(response.text)\n",
        "  result_text_hrefs = [e.get(\"href\") for e in soup.select(result_text_cs)]\n",
        "  movie_href = result_text_hrefs[0]\n",
        "  movie_url = \"https://www.imdb.com\" + movie_href #movie_url = \"https://www.imdb.com{}\".format(movie_href)\n",
        " \n",
        "  # 2nd request and parse: movie_data\n",
        "  response = requests.get(movie_url)\n",
        "  soup = BeautifulSoup(response.text)\n",
        "  movie_title = soup.select(movie_title_cs)[0].text.replace('\\xa0',' ').strip()\n",
        "  movie_poster = soup.select(movie_poster_cs)[0].get(\"src\")\n",
        "  movie_rating = float(soup.select(movie_rating_cs)[0].text)\n",
        "  movie_genre = [e.text for e in soup.select(movie_genre_cs)]\n",
        "  movie_genre.pop()\n",
        "  movie_cast = [e.text.strip() for e in soup.select(movie_cast_cs)]\n",
        "  movie_data = {\n",
        "      'movieTitle':movie_title,\n",
        "      'moviePoster':movie_poster,\n",
        "      'movieRating':movie_rating,\n",
        "      'movieGenre':movie_genre,\n",
        "      'movieCast':movie_cast\n",
        "  }\n",
        "  return movie_data"
      ],
      "execution_count": null,
      "outputs": []
    },
    {
      "cell_type": "code",
      "metadata": {
        "id": "RRABP31d4Lif",
        "colab": {
          "base_uri": "https://localhost:8080/",
          "height": 726
        },
        "outputId": "ccf2d433-5002-47be-da31-8d54751abb93"
      },
      "source": [
        "#發現迴圈出現錯誤\n",
        "for ca_movie in ca_movie_titles:\n",
        "    imdb_movie_data = get_movie_data(ca_movie)\n",
        "    imdb_movie_title = imdb_movie_data['movieTitle']\n",
        "    imdb_movie_rating = imdb_movie_data['movieRating']\n",
        "    print(\"{}的IMDB評等為{}\".format(imdb_movie_title, imdb_movie_rating))"
      ],
      "execution_count": null,
      "outputs": [
        {
          "output_type": "stream",
          "text": [
            "Radioactive (2019)的IMDB評等為6.2\n",
            "Can You Keep a Secret? (2019)的IMDB評等為5.3\n",
            "Extra Ordinary (2019)的IMDB評等為6.4\n",
            "Downhill (2020)的IMDB評等為4.8\n",
            "Scoob! (2020)的IMDB評等為5.7\n",
            "True History of the Kelly Gang (2019)的IMDB評等為6.0\n",
            "Human Capital (2019)的IMDB評等為6.1\n",
            "How to Build a Girl (2019)的IMDB評等為5.8\n",
            "Birds of Prey: And the Fantabulous Emancipation of One Harley Quinn (2020)的IMDB評等為6.1\n",
            "The Way Back (2020)的IMDB評等為6.7\n",
            "Sea of Shadows (2019)的IMDB評等為7.2\n",
            "Impractical Jokers的IMDB評等為8.6\n",
            "Sheep Without a Shepherd (2019)的IMDB評等為6.8\n",
            "White Snake (2019)的IMDB評等為7.0\n",
            "Escape from Pretoria (2020)的IMDB評等為6.8\n",
            "Hope Gap (2019)的IMDB評等為6.7\n",
            "The Candidate (2018)的IMDB評等為7.2\n",
            "Bharat (2019)的IMDB評等為5.2\n",
            "Kaguya-sama: Love is War的IMDB評等為8.3\n",
            "Trolls (2016)的IMDB評等為6.5\n",
            "The Lego Movie (2014)的IMDB評等為7.7\n",
            "Frozen (2013)的IMDB評等為7.4\n"
          ],
          "name": "stdout"
        },
        {
          "output_type": "error",
          "ename": "IndexError",
          "evalue": "ignored",
          "traceback": [
            "\u001b[0;31m---------------------------------------------------------------------------\u001b[0m",
            "\u001b[0;31mIndexError\u001b[0m                                Traceback (most recent call last)",
            "\u001b[0;32m<ipython-input-53-7f4fde2e1c6b>\u001b[0m in \u001b[0;36m<module>\u001b[0;34m()\u001b[0m\n\u001b[1;32m      1\u001b[0m \u001b[0;31m#發現迴圈出現錯誤\u001b[0m\u001b[0;34m\u001b[0m\u001b[0;34m\u001b[0m\u001b[0;34m\u001b[0m\u001b[0m\n\u001b[1;32m      2\u001b[0m \u001b[0;32mfor\u001b[0m \u001b[0mca_movie\u001b[0m \u001b[0;32min\u001b[0m \u001b[0mca_movie_titles\u001b[0m\u001b[0;34m:\u001b[0m\u001b[0;34m\u001b[0m\u001b[0;34m\u001b[0m\u001b[0m\n\u001b[0;32m----> 3\u001b[0;31m     \u001b[0mimdb_movie_data\u001b[0m \u001b[0;34m=\u001b[0m \u001b[0mget_movie_data\u001b[0m\u001b[0;34m(\u001b[0m\u001b[0mca_movie\u001b[0m\u001b[0;34m)\u001b[0m\u001b[0;34m\u001b[0m\u001b[0;34m\u001b[0m\u001b[0m\n\u001b[0m\u001b[1;32m      4\u001b[0m     \u001b[0mimdb_movie_title\u001b[0m \u001b[0;34m=\u001b[0m \u001b[0mimdb_movie_data\u001b[0m\u001b[0;34m[\u001b[0m\u001b[0;34m'movieTitle'\u001b[0m\u001b[0;34m]\u001b[0m\u001b[0;34m\u001b[0m\u001b[0;34m\u001b[0m\u001b[0m\n\u001b[1;32m      5\u001b[0m     \u001b[0mimdb_movie_rating\u001b[0m \u001b[0;34m=\u001b[0m \u001b[0mimdb_movie_data\u001b[0m\u001b[0;34m[\u001b[0m\u001b[0;34m'movieRating'\u001b[0m\u001b[0;34m]\u001b[0m\u001b[0;34m\u001b[0m\u001b[0;34m\u001b[0m\u001b[0m\n",
            "\u001b[0;32m<ipython-input-52-64bc613e8016>\u001b[0m in \u001b[0;36mget_movie_data\u001b[0;34m(search_movie_title)\u001b[0m\n\u001b[1;32m     16\u001b[0m   \u001b[0msoup\u001b[0m \u001b[0;34m=\u001b[0m \u001b[0mBeautifulSoup\u001b[0m\u001b[0;34m(\u001b[0m\u001b[0mresponse\u001b[0m\u001b[0;34m.\u001b[0m\u001b[0mtext\u001b[0m\u001b[0;34m)\u001b[0m\u001b[0;34m\u001b[0m\u001b[0;34m\u001b[0m\u001b[0m\n\u001b[1;32m     17\u001b[0m   \u001b[0mresult_text_hrefs\u001b[0m \u001b[0;34m=\u001b[0m \u001b[0;34m[\u001b[0m\u001b[0me\u001b[0m\u001b[0;34m.\u001b[0m\u001b[0mget\u001b[0m\u001b[0;34m(\u001b[0m\u001b[0;34m\"href\"\u001b[0m\u001b[0;34m)\u001b[0m \u001b[0;32mfor\u001b[0m \u001b[0me\u001b[0m \u001b[0;32min\u001b[0m \u001b[0msoup\u001b[0m\u001b[0;34m.\u001b[0m\u001b[0mselect\u001b[0m\u001b[0;34m(\u001b[0m\u001b[0mresult_text_cs\u001b[0m\u001b[0;34m)\u001b[0m\u001b[0;34m]\u001b[0m\u001b[0;34m\u001b[0m\u001b[0;34m\u001b[0m\u001b[0m\n\u001b[0;32m---> 18\u001b[0;31m   \u001b[0mmovie_href\u001b[0m \u001b[0;34m=\u001b[0m \u001b[0mresult_text_hrefs\u001b[0m\u001b[0;34m[\u001b[0m\u001b[0;36m0\u001b[0m\u001b[0;34m]\u001b[0m\u001b[0;34m\u001b[0m\u001b[0;34m\u001b[0m\u001b[0m\n\u001b[0m\u001b[1;32m     19\u001b[0m   \u001b[0mmovie_url\u001b[0m \u001b[0;34m=\u001b[0m \u001b[0;34m\"https://www.imdb.com\"\u001b[0m \u001b[0;34m+\u001b[0m \u001b[0mmovie_href\u001b[0m \u001b[0;31m#movie_url = \"https://www.imdb.com{}\".format(movie_href)\u001b[0m\u001b[0;34m\u001b[0m\u001b[0;34m\u001b[0m\u001b[0m\n\u001b[1;32m     20\u001b[0m \u001b[0;34m\u001b[0m\u001b[0m\n",
            "\u001b[0;31mIndexError\u001b[0m: list index out of range"
          ]
        }
      ]
    },
    {
      "cell_type": "code",
      "metadata": {
        "id": "gXNH0L4o5PqK"
      },
      "source": [
        "ca_movie_titles[:15]"
      ],
      "execution_count": null,
      "outputs": []
    },
    {
      "cell_type": "code",
      "metadata": {
        "id": "Lvm6AWvV6jfc"
      },
      "source": [
        "#調整成只搜尋電影類別下\n",
        "def get_movie_data(search_movie_title):\n",
        "  result_text_cs = \".result_text > a\"  \n",
        "  movie_title_cs = \"h1\"\n",
        "  movie_poster_cs = \".poster img\"\n",
        "  movie_rating_cs =\"strong span\"\n",
        "  movie_genre_cs = \".subtext a\"\n",
        "  movie_cast_cs =\".primary_photo+ td a\"\n",
        "  # 1st request and parse: movie_url\n",
        "  query_string_parameters = {\n",
        "    'q': search_movie_title,\n",
        "    's': 'tt',\n",
        "    'ttype': 'ft',\n",
        "    'ref_': 'fn_ft'\n",
        "  }\n",
        "  request_url = \"https://www.imdb.com/find\"\n",
        "  response = requests.get(request_url, params=query_string_parameters)\n",
        "  soup = BeautifulSoup(response.text)\n",
        "  result_text_hrefs = [e.get(\"href\") for e in soup.select(result_text_cs)]\n",
        "  movie_href = result_text_hrefs[0]\n",
        "  movie_url = \"https://www.imdb.com\" + movie_href #movie_url = \"https://www.imdb.com{}\".format(movie_href)\n",
        " \n",
        "  # 2nd request and parse: movie_data\n",
        "  response = requests.get(movie_url)\n",
        "  soup = BeautifulSoup(response.text)\n",
        "  movie_title = soup.select(movie_title_cs)[0].text.replace('\\xa0',' ').strip()\n",
        "  movie_poster = soup.select(movie_poster_cs)[0].get(\"src\")\n",
        "  movie_rating = float(soup.select(movie_rating_cs)[0].text)\n",
        "  movie_genre = [e.text for e in soup.select(movie_genre_cs)]\n",
        "  movie_genre.pop()\n",
        "  movie_cast = [e.text.strip() for e in soup.select(movie_cast_cs)]\n",
        "  movie_data = {\n",
        "      'movieTitle':movie_title,\n",
        "      'moviePoster':movie_poster,\n",
        "      'movieRating':movie_rating,\n",
        "      'movieGenre':movie_genre,\n",
        "      'movieCast':movie_cast\n",
        "  }\n",
        "  return movie_data"
      ],
      "execution_count": null,
      "outputs": []
    },
    {
      "cell_type": "code",
      "metadata": {
        "id": "j5a6Xg3e8Eq4",
        "colab": {
          "base_uri": "https://localhost:8080/",
          "height": 726
        },
        "outputId": "4f8fd865-a63b-413b-9373-0b240fe62af1"
      },
      "source": [
        "for ca_movie in ca_movie_titles:\n",
        "    imdb_movie_data = get_movie_data(ca_movie)\n",
        "    imdb_movie_title = imdb_movie_data['movieTitle']\n",
        "    imdb_movie_rating = imdb_movie_data['movieRating']\n",
        "    print(\"{}的IMDB評等為{}\".format(imdb_movie_title, imdb_movie_rating))"
      ],
      "execution_count": null,
      "outputs": [
        {
          "output_type": "stream",
          "text": [
            "Radioactive (2019)的IMDB評等為6.2\n",
            "Can You Keep a Secret? (2019)的IMDB評等為5.3\n",
            "Extra Ordinary (2019)的IMDB評等為6.4\n",
            "Downhill (2020)的IMDB評等為4.8\n",
            "Scoob! (2020)的IMDB評等為5.7\n",
            "True History of the Kelly Gang (2019)的IMDB評等為6.0\n",
            "Human Capital (2019)的IMDB評等為6.1\n",
            "How to Build a Girl (2019)的IMDB評等為5.8\n",
            "Birds of Prey: And the Fantabulous Emancipation of One Harley Quinn (2020)的IMDB評等為6.1\n",
            "The Way Back (2020)的IMDB評等為6.7\n",
            "Sea of Shadows (2019)的IMDB評等為7.2\n",
            "Impractical Jokers: The Movie (2020)的IMDB評等為5.9\n",
            "Sheep Without a Shepherd (2019)的IMDB評等為6.8\n",
            "White Snake (2019)的IMDB評等為7.0\n",
            "Escape from Pretoria (2020)的IMDB評等為6.8\n",
            "Hope Gap (2019)的IMDB評等為6.7\n",
            "The Candidate (2018)的IMDB評等為7.2\n",
            "Bharat (2019)的IMDB評等為5.2\n",
            "Kaguya-sama: Love Is War (2019)的IMDB評等為5.7\n",
            "Trolls (2016)的IMDB評等為6.5\n",
            "The Lego Movie (2014)的IMDB評等為7.7\n",
            "Frozen (2013)的IMDB評等為7.4\n"
          ],
          "name": "stdout"
        },
        {
          "output_type": "error",
          "ename": "IndexError",
          "evalue": "ignored",
          "traceback": [
            "\u001b[0;31m---------------------------------------------------------------------------\u001b[0m",
            "\u001b[0;31mIndexError\u001b[0m                                Traceback (most recent call last)",
            "\u001b[0;32m<ipython-input-55-fc50f97b20a3>\u001b[0m in \u001b[0;36m<module>\u001b[0;34m()\u001b[0m\n\u001b[1;32m      1\u001b[0m \u001b[0;32mfor\u001b[0m \u001b[0mca_movie\u001b[0m \u001b[0;32min\u001b[0m \u001b[0mca_movie_titles\u001b[0m\u001b[0;34m:\u001b[0m\u001b[0;34m\u001b[0m\u001b[0;34m\u001b[0m\u001b[0m\n\u001b[0;32m----> 2\u001b[0;31m     \u001b[0mimdb_movie_data\u001b[0m \u001b[0;34m=\u001b[0m \u001b[0mget_movie_data\u001b[0m\u001b[0;34m(\u001b[0m\u001b[0mca_movie\u001b[0m\u001b[0;34m)\u001b[0m\u001b[0;34m\u001b[0m\u001b[0;34m\u001b[0m\u001b[0m\n\u001b[0m\u001b[1;32m      3\u001b[0m     \u001b[0mimdb_movie_title\u001b[0m \u001b[0;34m=\u001b[0m \u001b[0mimdb_movie_data\u001b[0m\u001b[0;34m[\u001b[0m\u001b[0;34m'movieTitle'\u001b[0m\u001b[0;34m]\u001b[0m\u001b[0;34m\u001b[0m\u001b[0;34m\u001b[0m\u001b[0m\n\u001b[1;32m      4\u001b[0m     \u001b[0mimdb_movie_rating\u001b[0m \u001b[0;34m=\u001b[0m \u001b[0mimdb_movie_data\u001b[0m\u001b[0;34m[\u001b[0m\u001b[0;34m'movieRating'\u001b[0m\u001b[0;34m]\u001b[0m\u001b[0;34m\u001b[0m\u001b[0;34m\u001b[0m\u001b[0m\n\u001b[1;32m      5\u001b[0m     \u001b[0mprint\u001b[0m\u001b[0;34m(\u001b[0m\u001b[0;34m\"{}的IMDB評等為{}\"\u001b[0m\u001b[0;34m.\u001b[0m\u001b[0mformat\u001b[0m\u001b[0;34m(\u001b[0m\u001b[0mimdb_movie_title\u001b[0m\u001b[0;34m,\u001b[0m \u001b[0mimdb_movie_rating\u001b[0m\u001b[0;34m)\u001b[0m\u001b[0;34m)\u001b[0m\u001b[0;34m\u001b[0m\u001b[0;34m\u001b[0m\u001b[0m\n",
            "\u001b[0;32m<ipython-input-54-00b42a96daca>\u001b[0m in \u001b[0;36mget_movie_data\u001b[0;34m(search_movie_title)\u001b[0m\n\u001b[1;32m     18\u001b[0m   \u001b[0msoup\u001b[0m \u001b[0;34m=\u001b[0m \u001b[0mBeautifulSoup\u001b[0m\u001b[0;34m(\u001b[0m\u001b[0mresponse\u001b[0m\u001b[0;34m.\u001b[0m\u001b[0mtext\u001b[0m\u001b[0;34m)\u001b[0m\u001b[0;34m\u001b[0m\u001b[0;34m\u001b[0m\u001b[0m\n\u001b[1;32m     19\u001b[0m   \u001b[0mresult_text_hrefs\u001b[0m \u001b[0;34m=\u001b[0m \u001b[0;34m[\u001b[0m\u001b[0me\u001b[0m\u001b[0;34m.\u001b[0m\u001b[0mget\u001b[0m\u001b[0;34m(\u001b[0m\u001b[0;34m\"href\"\u001b[0m\u001b[0;34m)\u001b[0m \u001b[0;32mfor\u001b[0m \u001b[0me\u001b[0m \u001b[0;32min\u001b[0m \u001b[0msoup\u001b[0m\u001b[0;34m.\u001b[0m\u001b[0mselect\u001b[0m\u001b[0;34m(\u001b[0m\u001b[0mresult_text_cs\u001b[0m\u001b[0;34m)\u001b[0m\u001b[0;34m]\u001b[0m\u001b[0;34m\u001b[0m\u001b[0;34m\u001b[0m\u001b[0m\n\u001b[0;32m---> 20\u001b[0;31m   \u001b[0mmovie_href\u001b[0m \u001b[0;34m=\u001b[0m \u001b[0mresult_text_hrefs\u001b[0m\u001b[0;34m[\u001b[0m\u001b[0;36m0\u001b[0m\u001b[0;34m]\u001b[0m\u001b[0;34m\u001b[0m\u001b[0;34m\u001b[0m\u001b[0m\n\u001b[0m\u001b[1;32m     21\u001b[0m   \u001b[0mmovie_url\u001b[0m \u001b[0;34m=\u001b[0m \u001b[0;34m\"https://www.imdb.com\"\u001b[0m \u001b[0;34m+\u001b[0m \u001b[0mmovie_href\u001b[0m \u001b[0;31m#movie_url = \"https://www.imdb.com{}\".format(movie_href)\u001b[0m\u001b[0;34m\u001b[0m\u001b[0;34m\u001b[0m\u001b[0m\n\u001b[1;32m     22\u001b[0m \u001b[0;34m\u001b[0m\u001b[0m\n",
            "\u001b[0;31mIndexError\u001b[0m: list index out of range"
          ]
        }
      ]
    },
    {
      "cell_type": "code",
      "metadata": {
        "id": "gj03JeY98IPT"
      },
      "source": [
        "ca_movie_titles[:24]"
      ],
      "execution_count": null,
      "outputs": []
    },
    {
      "cell_type": "code",
      "metadata": {
        "id": "_h4DYXI-8XdJ",
        "colab": {
          "base_uri": "https://localhost:8080/"
        },
        "outputId": "68b48478-3593-43eb-e0ff-65418cee838c"
      },
      "source": [
        "#發現沒有搜尋結果，因此修正忽略錯誤\n",
        "ca_imdb_movie_data = []\n",
        "for ca_movie in ca_movie_titles:\n",
        "  try:\n",
        "    imdb_movie_data = get_movie_data(ca_movie)\n",
        "    ca_imdb_movie_data.append(imdb_movie_data)\n",
        "    imdb_movie_title = imdb_movie_data['movieTitle']\n",
        "    imdb_movie_rating = imdb_movie_data['movieRating']\n",
        "    print(\"{}的IMDB評等為{}\".format(imdb_movie_title, imdb_movie_rating))\n",
        "  except:\n",
        "    print(\"在擷取{}電影資訊時產生了錯誤...\".format(ca_movie))"
      ],
      "execution_count": null,
      "outputs": [
        {
          "output_type": "stream",
          "text": [
            "Radioactive (2019)的IMDB評等為6.2\n",
            "Can You Keep a Secret? (2019)的IMDB評等為5.3\n",
            "Extra Ordinary (2019)的IMDB評等為6.4\n",
            "Downhill (2020)的IMDB評等為4.8\n",
            "Scoob! (2020)的IMDB評等為5.7\n",
            "True History of the Kelly Gang (2019)的IMDB評等為6.0\n",
            "Human Capital (2019)的IMDB評等為6.1\n",
            "How to Build a Girl (2019)的IMDB評等為5.8\n",
            "Birds of Prey: And the Fantabulous Emancipation of One Harley Quinn (2020)的IMDB評等為6.1\n",
            "The Way Back (2020)的IMDB評等為6.7\n",
            "Sea of Shadows (2019)的IMDB評等為7.2\n",
            "Impractical Jokers: The Movie (2020)的IMDB評等為5.9\n",
            "Sheep Without a Shepherd (2019)的IMDB評等為6.8\n",
            "White Snake (2019)的IMDB評等為7.0\n",
            "Escape from Pretoria (2020)的IMDB評等為6.8\n",
            "Hope Gap (2019)的IMDB評等為6.7\n",
            "The Candidate (2018)的IMDB評等為7.2\n",
            "Bharat (2019)的IMDB評等為5.2\n",
            "Kaguya-sama: Love Is War (2019)的IMDB評等為5.7\n",
            "Trolls (2016)的IMDB評等為6.5\n",
            "The Lego Movie (2014)的IMDB評等為7.7\n",
            "Frozen (2013)的IMDB評等為7.4\n",
            "在擷取Disney and Pixar’s Finding Dory電影資訊時產生了錯誤...\n",
            "在擷取Disney and Pixar’s The Good Dinosaur電影資訊時產生了錯誤...\n",
            "Big Hero 6 (2014)的IMDB評等為7.8\n",
            "在擷取Disney and Pixar’s Coco電影資訊時產生了錯誤...\n",
            "在擷取Disney and Pixar’s Incredibles 2電影資訊時產生了錯誤...\n",
            "Night at the Museum: Secret of the Tomb (2014)的IMDB評等為6.2\n",
            "The Book of Life (2014)的IMDB評等為7.3\n",
            "Hai shang hua (1998)的IMDB評等為7.4\n",
            "The Gangs, the Oscars, and the Walking Dead (2019)的IMDB評等為6.7\n",
            "在擷取CRAYON SHINCHAN Movie…電影資訊時產生了錯誤...\n",
            "Our Mothers (2019)的IMDB評等為6.6\n",
            "Aquaman (2018)的IMDB評等為6.9\n",
            "Hidden Figures (2016)的IMDB評等為7.8\n",
            "Mad Max: Fury Road (2015)的IMDB評等為8.1\n",
            "Rogue One: A Star Wars Story (2016)的IMDB評等為7.8\n",
            "Three Billboards Outside Ebbing, Missouri (2017)的IMDB評等為8.2\n",
            "X-Men: Apocalypse (2016)的IMDB評等為6.9\n",
            "Love the Coopers (2015)的IMDB評等為5.8\n",
            "Goodbye Christopher Robin (2017)的IMDB評等為7.1\n",
            "Love Actually (2003)的IMDB評等為7.6\n",
            "R.I.P.D. (2013)的IMDB評等為5.6\n",
            "Kingsman: The Secret Service (2014)的IMDB評等為7.7\n",
            "Ocean's Eleven (2001)的IMDB評等為7.7\n",
            "Tomorrowland (2015)的IMDB評等為6.4\n",
            "Ready Player One (2018)的IMDB評等為7.5\n",
            "Tomb Raider (2018)的IMDB評等為6.3\n",
            "The Greatest Showman (2017)的IMDB評等為7.6\n",
            "The Iron Lady (2011)的IMDB評等為6.4\n",
            "Beauty and the Beast (2017)的IMDB評等為7.1\n",
            "Get Out (2017)的IMDB評等為7.7\n",
            "The Holiday (2006)的IMDB評等為6.9\n",
            "The Revenant (2015)的IMDB評等為8.0\n",
            "Catch Me If You Can (2002)的IMDB評等為8.1\n",
            "John Wick: Chapter 2 (2017)的IMDB評等為7.5\n",
            "Bridge of Spies (2015)的IMDB評等為7.6\n",
            "London Has Fallen (2016)的IMDB評等為5.9\n",
            "The Great Gatsby (2013)的IMDB評等為7.2\n",
            "The Post (2017)的IMDB評等為7.2\n",
            "The Help (2011)的IMDB評等為8.0\n",
            "Jumanji: Welcome to the Jungle (2017)的IMDB評等為6.9\n",
            "The Hobbit: The Battle of the Five Armies (2014)的IMDB評等為7.4\n",
            "Star Wars: Episode VII - The Force Awakens (2015)的IMDB評等為7.9\n",
            "Me Before You (2016)的IMDB評等為7.4\n",
            "Star Wars: Episode VIII - The Last Jedi (2017)的IMDB評等為7.0\n",
            "Furious 7 (2015)的IMDB評等為7.1\n",
            "The Fate of the Furious (2017)的IMDB評等為6.7\n",
            "The Imitation Game (2014)的IMDB評等為8.0\n",
            "Her (2013)的IMDB評等為8.0\n",
            "Inception (2010)的IMDB評等為8.8\n",
            "Oblivion (2013)的IMDB評等為7.0\n",
            "Our Brand Is Crisis (2015)的IMDB評等為6.1\n"
          ],
          "name": "stdout"
        }
      ]
    },
    {
      "cell_type": "code",
      "metadata": {
        "id": "Z3MRpVBf9aIn",
        "colab": {
          "base_uri": "https://localhost:8080/"
        },
        "outputId": "e1198310-719d-43ba-ab38-a44d7c33dea4"
      },
      "source": [
        "print(len(ca_imdb_movie_data))"
      ],
      "execution_count": null,
      "outputs": [
        {
          "output_type": "stream",
          "text": [
            "68\n"
          ],
          "name": "stdout"
        }
      ]
    },
    {
      "cell_type": "code",
      "metadata": {
        "id": "bAGFB9YT_fSc",
        "colab": {
          "base_uri": "https://localhost:8080/"
        },
        "outputId": "f2c5bd77-2959-4f0c-e2c3-dc2c0f81e498"
      },
      "source": [
        "ca_imdb_movie_data[0]"
      ],
      "execution_count": null,
      "outputs": [
        {
          "output_type": "execute_result",
          "data": {
            "text/plain": [
              "{'movieCast': [],\n",
              " 'movieGenre': ['Biography', 'Drama', 'Romance'],\n",
              " 'moviePoster': 'https://m.media-amazon.com/images/M/MV5BZGZkNzY3MmUtYjJlNC00NTM0LWFiNmYtZDA4NzBiMmU1MzI4XkEyXkFqcGdeQXVyODE0OTU5Nzg@._V1_UX182_CR0,0,182,268_AL_.jpg',\n",
              " 'movieRating': 6.2,\n",
              " 'movieTitle': 'Radioactive (2019)'}"
            ]
          },
          "metadata": {
            "tags": []
          },
          "execution_count": 78
        }
      ]
    },
    {
      "cell_type": "code",
      "metadata": {
        "colab": {
          "base_uri": "https://localhost:8080/"
        },
        "id": "hdwm9X-H5TsE",
        "outputId": "46613ae9-ffde-4d7d-dd1c-eca3941d2044"
      },
      "source": [
        "#找出華航機上最高評等的電影_方法一\n",
        "import pandas as pd\n",
        "data=pd.DataFrame(ca_imdb_movie_data)\n",
        "print(data)"
      ],
      "execution_count": null,
      "outputs": [
        {
          "output_type": "stream",
          "text": [
            "                       movieTitle  ... movieCast\n",
            "0              Radioactive (2019)  ...        []\n",
            "1   Can You Keep a Secret? (2019)  ...        []\n",
            "2           Extra Ordinary (2019)  ...        []\n",
            "3                 Downhill (2020)  ...        []\n",
            "4                   Scoob! (2020)  ...        []\n",
            "..                            ...  ...       ...\n",
            "63      The Imitation Game (2014)  ...        []\n",
            "64                     Her (2013)  ...        []\n",
            "65               Inception (2010)  ...        []\n",
            "66                Oblivion (2013)  ...        []\n",
            "67     Our Brand Is Crisis (2015)  ...        []\n",
            "\n",
            "[68 rows x 5 columns]\n"
          ],
          "name": "stdout"
        }
      ]
    },
    {
      "cell_type": "code",
      "metadata": {
        "colab": {
          "base_uri": "https://localhost:8080/"
        },
        "id": "vvCr2Vad7RoV",
        "outputId": "eb55084b-8f65-40e2-8e5c-8bbcab8220be"
      },
      "source": [
        "max_rating=data['movieRating'].max()\n",
        "max_rating"
      ],
      "execution_count": null,
      "outputs": [
        {
          "output_type": "execute_result",
          "data": {
            "text/plain": [
              "8.8"
            ]
          },
          "metadata": {
            "tags": []
          },
          "execution_count": 66
        }
      ]
    },
    {
      "cell_type": "code",
      "metadata": {
        "colab": {
          "base_uri": "https://localhost:8080/"
        },
        "id": "AnB1YjDx8jYO",
        "outputId": "97150fa8-6242-445d-932f-a1e0a843aef5"
      },
      "source": [
        "data['movieRating'].idxmax()"
      ],
      "execution_count": null,
      "outputs": [
        {
          "output_type": "execute_result",
          "data": {
            "text/plain": [
              "65"
            ]
          },
          "metadata": {
            "tags": []
          },
          "execution_count": 63
        }
      ]
    },
    {
      "cell_type": "code",
      "metadata": {
        "colab": {
          "base_uri": "https://localhost:8080/",
          "height": 450
        },
        "id": "rqDJpVLV_Pm1",
        "outputId": "b21001b7-7cf1-4304-8e1a-7e4075c63910"
      },
      "source": [
        "data.set_index(\"movieTitle\", inplace=True)\n",
        "data"
      ],
      "execution_count": null,
      "outputs": [
        {
          "output_type": "execute_result",
          "data": {
            "text/html": [
              "<div>\n",
              "<style scoped>\n",
              "    .dataframe tbody tr th:only-of-type {\n",
              "        vertical-align: middle;\n",
              "    }\n",
              "\n",
              "    .dataframe tbody tr th {\n",
              "        vertical-align: top;\n",
              "    }\n",
              "\n",
              "    .dataframe thead th {\n",
              "        text-align: right;\n",
              "    }\n",
              "</style>\n",
              "<table border=\"1\" class=\"dataframe\">\n",
              "  <thead>\n",
              "    <tr style=\"text-align: right;\">\n",
              "      <th></th>\n",
              "      <th>moviePoster</th>\n",
              "      <th>movieRating</th>\n",
              "      <th>movieGenre</th>\n",
              "      <th>movieCast</th>\n",
              "    </tr>\n",
              "    <tr>\n",
              "      <th>movieTitle</th>\n",
              "      <th></th>\n",
              "      <th></th>\n",
              "      <th></th>\n",
              "      <th></th>\n",
              "    </tr>\n",
              "  </thead>\n",
              "  <tbody>\n",
              "    <tr>\n",
              "      <th>Radioactive (2019)</th>\n",
              "      <td>https://m.media-amazon.com/images/M/MV5BZGZkNz...</td>\n",
              "      <td>6.2</td>\n",
              "      <td>[Biography, Drama, Romance]</td>\n",
              "      <td>[]</td>\n",
              "    </tr>\n",
              "    <tr>\n",
              "      <th>Can You Keep a Secret? (2019)</th>\n",
              "      <td>https://m.media-amazon.com/images/M/MV5BMGYxNj...</td>\n",
              "      <td>5.3</td>\n",
              "      <td>[Comedy, Romance]</td>\n",
              "      <td>[]</td>\n",
              "    </tr>\n",
              "    <tr>\n",
              "      <th>Extra Ordinary (2019)</th>\n",
              "      <td>https://m.media-amazon.com/images/M/MV5BOTZiMz...</td>\n",
              "      <td>6.4</td>\n",
              "      <td>[Comedy, Fantasy, Horror]</td>\n",
              "      <td>[]</td>\n",
              "    </tr>\n",
              "    <tr>\n",
              "      <th>Downhill (2020)</th>\n",
              "      <td>https://m.media-amazon.com/images/M/MV5BM2QxMW...</td>\n",
              "      <td>4.8</td>\n",
              "      <td>[Comedy, Drama]</td>\n",
              "      <td>[]</td>\n",
              "    </tr>\n",
              "    <tr>\n",
              "      <th>Scoob! (2020)</th>\n",
              "      <td>https://m.media-amazon.com/images/M/MV5BZTJmOD...</td>\n",
              "      <td>5.7</td>\n",
              "      <td>[Animation, Adventure, Comedy]</td>\n",
              "      <td>[]</td>\n",
              "    </tr>\n",
              "    <tr>\n",
              "      <th>...</th>\n",
              "      <td>...</td>\n",
              "      <td>...</td>\n",
              "      <td>...</td>\n",
              "      <td>...</td>\n",
              "    </tr>\n",
              "    <tr>\n",
              "      <th>The Imitation Game (2014)</th>\n",
              "      <td>https://m.media-amazon.com/images/M/MV5BOTgwMz...</td>\n",
              "      <td>8.0</td>\n",
              "      <td>[Biography, Drama, Thriller]</td>\n",
              "      <td>[]</td>\n",
              "    </tr>\n",
              "    <tr>\n",
              "      <th>Her (2013)</th>\n",
              "      <td>https://m.media-amazon.com/images/M/MV5BMjA1Nz...</td>\n",
              "      <td>8.0</td>\n",
              "      <td>[Drama, Romance, Sci-Fi]</td>\n",
              "      <td>[]</td>\n",
              "    </tr>\n",
              "    <tr>\n",
              "      <th>Inception (2010)</th>\n",
              "      <td>https://m.media-amazon.com/images/M/MV5BMjAxMz...</td>\n",
              "      <td>8.8</td>\n",
              "      <td>[Action, Adventure, Sci-Fi]</td>\n",
              "      <td>[]</td>\n",
              "    </tr>\n",
              "    <tr>\n",
              "      <th>Oblivion (2013)</th>\n",
              "      <td>https://m.media-amazon.com/images/M/MV5BMTQwMD...</td>\n",
              "      <td>7.0</td>\n",
              "      <td>[Action, Adventure, Sci-Fi]</td>\n",
              "      <td>[]</td>\n",
              "    </tr>\n",
              "    <tr>\n",
              "      <th>Our Brand Is Crisis (2015)</th>\n",
              "      <td>https://m.media-amazon.com/images/M/MV5BMTg5MD...</td>\n",
              "      <td>6.1</td>\n",
              "      <td>[Comedy, Drama]</td>\n",
              "      <td>[]</td>\n",
              "    </tr>\n",
              "  </tbody>\n",
              "</table>\n",
              "<p>68 rows × 4 columns</p>\n",
              "</div>"
            ],
            "text/plain": [
              "                                                                     moviePoster  ...  movieCast\n",
              "movieTitle                                                                        ...           \n",
              "Radioactive (2019)             https://m.media-amazon.com/images/M/MV5BZGZkNz...  ...         []\n",
              "Can You Keep a Secret? (2019)  https://m.media-amazon.com/images/M/MV5BMGYxNj...  ...         []\n",
              "Extra Ordinary (2019)          https://m.media-amazon.com/images/M/MV5BOTZiMz...  ...         []\n",
              "Downhill (2020)                https://m.media-amazon.com/images/M/MV5BM2QxMW...  ...         []\n",
              "Scoob! (2020)                  https://m.media-amazon.com/images/M/MV5BZTJmOD...  ...         []\n",
              "...                                                                          ...  ...        ...\n",
              "The Imitation Game (2014)      https://m.media-amazon.com/images/M/MV5BOTgwMz...  ...         []\n",
              "Her (2013)                     https://m.media-amazon.com/images/M/MV5BMjA1Nz...  ...         []\n",
              "Inception (2010)               https://m.media-amazon.com/images/M/MV5BMjAxMz...  ...         []\n",
              "Oblivion (2013)                https://m.media-amazon.com/images/M/MV5BMTQwMD...  ...         []\n",
              "Our Brand Is Crisis (2015)     https://m.media-amazon.com/images/M/MV5BMTg5MD...  ...         []\n",
              "\n",
              "[68 rows x 4 columns]"
            ]
          },
          "metadata": {
            "tags": []
          },
          "execution_count": 64
        }
      ]
    },
    {
      "cell_type": "code",
      "metadata": {
        "colab": {
          "base_uri": "https://localhost:8080/",
          "height": 35
        },
        "id": "3YMk9DNb_kzr",
        "outputId": "176c940b-4923-4f17-bc41-29b937710c32"
      },
      "source": [
        "max_rating_movie=data['movieRating'].idxmax()\n",
        "max_rating_movie"
      ],
      "execution_count": null,
      "outputs": [
        {
          "output_type": "execute_result",
          "data": {
            "application/vnd.google.colaboratory.intrinsic+json": {
              "type": "string"
            },
            "text/plain": [
              "'Inception (2010)'"
            ]
          },
          "metadata": {
            "tags": []
          },
          "execution_count": 67
        }
      ]
    },
    {
      "cell_type": "code",
      "metadata": {
        "id": "foV0RSKo_0I7",
        "colab": {
          "base_uri": "https://localhost:8080/"
        },
        "outputId": "5e3cef51-e247-4aba-b3e6-4a439beddc8c"
      },
      "source": [
        "#找出華航機上最高評等的電影_方法二\n",
        "movie_titles, movie_ratings = [], []\n",
        "for movie_data in ca_imdb_movie_data:\n",
        "    movie_titles.append(movie_data['movieTitle'])\n",
        "    movie_ratings.append(movie_data['movieRating'])\n",
        "print(movie_titles)\n",
        "print(movie_ratings)"
      ],
      "execution_count": null,
      "outputs": [
        {
          "output_type": "stream",
          "text": [
            "['Radioactive (2019)', 'Can You Keep a Secret? (2019)', 'Extra Ordinary (2019)', 'Downhill (2020)', 'Scoob! (2020)', 'True History of the Kelly Gang (2019)', 'Human Capital (2019)', 'How to Build a Girl (2019)', 'Birds of Prey: And the Fantabulous Emancipation of One Harley Quinn (2020)', 'The Way Back (2020)', 'Sea of Shadows (2019)', 'Impractical Jokers: The Movie (2020)', 'Sheep Without a Shepherd (2019)', 'White Snake (2019)', 'Escape from Pretoria (2020)', 'Hope Gap (2019)', 'The Candidate (2018)', 'Bharat (2019)', 'Kaguya-sama: Love Is War (2019)', 'Trolls (2016)', 'The Lego Movie (2014)', 'Frozen (2013)', 'Big Hero 6 (2014)', 'Night at the Museum: Secret of the Tomb (2014)', 'The Book of Life (2014)', 'Hai shang hua (1998)', 'The Gangs, the Oscars, and the Walking Dead (2019)', 'Our Mothers (2019)', 'Aquaman (2018)', 'Hidden Figures (2016)', 'Mad Max: Fury Road (2015)', 'Rogue One: A Star Wars Story (2016)', 'Three Billboards Outside Ebbing, Missouri (2017)', 'X-Men: Apocalypse (2016)', 'Love the Coopers (2015)', 'Goodbye Christopher Robin (2017)', 'Love Actually (2003)', 'R.I.P.D. (2013)', 'Kingsman: The Secret Service (2014)', \"Ocean's Eleven (2001)\", 'Tomorrowland (2015)', 'Ready Player One (2018)', 'Tomb Raider (2018)', 'The Greatest Showman (2017)', 'The Iron Lady (2011)', 'Beauty and the Beast (2017)', 'Get Out (2017)', 'The Holiday (2006)', 'The Revenant (2015)', 'Catch Me If You Can (2002)', 'John Wick: Chapter 2 (2017)', 'Bridge of Spies (2015)', 'London Has Fallen (2016)', 'The Great Gatsby (2013)', 'The Post (2017)', 'The Help (2011)', 'Jumanji: Welcome to the Jungle (2017)', 'The Hobbit: The Battle of the Five Armies (2014)', 'Star Wars: Episode VII - The Force Awakens (2015)', 'Me Before You (2016)', 'Star Wars: Episode VIII - The Last Jedi (2017)', 'Furious 7 (2015)', 'The Fate of the Furious (2017)', 'The Imitation Game (2014)', 'Her (2013)', 'Inception (2010)', 'Oblivion (2013)', 'Our Brand Is Crisis (2015)']\n",
            "[6.2, 5.3, 6.4, 4.8, 5.7, 6.0, 6.1, 5.8, 6.1, 6.7, 7.2, 5.9, 6.8, 7.0, 6.8, 6.7, 7.2, 5.2, 5.7, 6.5, 7.7, 7.4, 7.8, 6.2, 7.3, 7.4, 6.7, 6.6, 6.9, 7.8, 8.1, 7.8, 8.2, 6.9, 5.8, 7.1, 7.6, 5.6, 7.7, 7.7, 6.4, 7.5, 6.3, 7.6, 6.4, 7.1, 7.7, 6.9, 8.0, 8.1, 7.5, 7.6, 5.9, 7.2, 7.2, 8.0, 6.9, 7.4, 7.9, 7.4, 7.0, 7.1, 6.7, 8.0, 8.0, 8.8, 7.0, 6.1]\n"
          ],
          "name": "stdout"
        }
      ]
    },
    {
      "cell_type": "code",
      "metadata": {
        "id": "1YsHhikvP4e1",
        "colab": {
          "base_uri": "https://localhost:8080/"
        },
        "outputId": "15205772-38a6-4da2-d44e-9488ee36865b"
      },
      "source": [
        "max_movie_rating = max(movie_ratings)\n",
        "print(max_movie_rating)"
      ],
      "execution_count": null,
      "outputs": [
        {
          "output_type": "stream",
          "text": [
            "8.8\n"
          ],
          "name": "stdout"
        }
      ]
    },
    {
      "cell_type": "code",
      "metadata": {
        "id": "MFn-0RMsT6io",
        "colab": {
          "base_uri": "https://localhost:8080/"
        },
        "outputId": "612b6ccf-c60e-42e9-ce3a-584cd7af6186"
      },
      "source": [
        "#確認最高分只有一部電影\n",
        "best_rated_indice =[]\n",
        "for idx, rating in enumerate(movie_ratings):\n",
        "    if rating == max_movie_rating:\n",
        "       print(\"位於{}位置的評等是最高的\".format(idx))\n",
        "       best_rated_indice.append(idx)\n",
        "print(best_rated_indice)"
      ],
      "execution_count": null,
      "outputs": [
        {
          "output_type": "stream",
          "text": [
            "位於65位置的評等是最高的\n",
            "[65]\n"
          ],
          "name": "stdout"
        }
      ]
    },
    {
      "cell_type": "code",
      "metadata": {
        "id": "eUOmpPKXVFQ2",
        "colab": {
          "base_uri": "https://localhost:8080/"
        },
        "outputId": "29e7150a-d8c1-4fa6-f90a-cc16e7e4033c"
      },
      "source": [
        "list(enumerate(movie_ratings))"
      ],
      "execution_count": null,
      "outputs": [
        {
          "output_type": "execute_result",
          "data": {
            "text/plain": [
              "[(0, 6.2),\n",
              " (1, 5.3),\n",
              " (2, 6.4),\n",
              " (3, 4.8),\n",
              " (4, 5.7),\n",
              " (5, 6.0),\n",
              " (6, 6.1),\n",
              " (7, 5.8),\n",
              " (8, 6.1),\n",
              " (9, 6.7),\n",
              " (10, 7.2),\n",
              " (11, 5.9),\n",
              " (12, 6.8),\n",
              " (13, 7.0),\n",
              " (14, 6.8),\n",
              " (15, 6.7),\n",
              " (16, 7.2),\n",
              " (17, 5.2),\n",
              " (18, 5.7),\n",
              " (19, 6.5),\n",
              " (20, 7.7),\n",
              " (21, 7.4),\n",
              " (22, 7.8),\n",
              " (23, 6.2),\n",
              " (24, 7.3),\n",
              " (25, 7.4),\n",
              " (26, 6.7),\n",
              " (27, 6.6),\n",
              " (28, 6.9),\n",
              " (29, 7.8),\n",
              " (30, 8.1),\n",
              " (31, 7.8),\n",
              " (32, 8.2),\n",
              " (33, 6.9),\n",
              " (34, 5.8),\n",
              " (35, 7.1),\n",
              " (36, 7.6),\n",
              " (37, 5.6),\n",
              " (38, 7.7),\n",
              " (39, 7.7),\n",
              " (40, 6.4),\n",
              " (41, 7.5),\n",
              " (42, 6.3),\n",
              " (43, 7.6),\n",
              " (44, 6.4),\n",
              " (45, 7.1),\n",
              " (46, 7.7),\n",
              " (47, 6.9),\n",
              " (48, 8.0),\n",
              " (49, 8.1),\n",
              " (50, 7.5),\n",
              " (51, 7.6),\n",
              " (52, 5.9),\n",
              " (53, 7.2),\n",
              " (54, 7.2),\n",
              " (55, 8.0),\n",
              " (56, 6.9),\n",
              " (57, 7.4),\n",
              " (58, 7.9),\n",
              " (59, 7.4),\n",
              " (60, 7.0),\n",
              " (61, 7.1),\n",
              " (62, 6.7),\n",
              " (63, 8.0),\n",
              " (64, 8.0),\n",
              " (65, 8.8),\n",
              " (66, 7.0),\n",
              " (67, 6.1)]"
            ]
          },
          "metadata": {
            "tags": []
          },
          "execution_count": 72
        }
      ]
    },
    {
      "cell_type": "code",
      "metadata": {
        "id": "lxlC8fLZVa6D",
        "colab": {
          "base_uri": "https://localhost:8080/"
        },
        "outputId": "fff5ba87-c104-404d-f44b-cc8e789cf2e6"
      },
      "source": [
        "best_movie_index = best_rated_indice[0]\n",
        "print(movie_titles[best_movie_index])"
      ],
      "execution_count": null,
      "outputs": [
        {
          "output_type": "stream",
          "text": [
            "Inception (2010)\n"
          ],
          "name": "stdout"
        }
      ]
    },
    {
      "cell_type": "code",
      "metadata": {
        "id": "HzO_Xk2jWXZ2",
        "colab": {
          "base_uri": "https://localhost:8080/",
          "height": 419
        },
        "outputId": "5d7049cd-5dbb-4be8-efbe-a2190177686f"
      },
      "source": [
        "import pandas as pd\n",
        "\n",
        "ca_movie_df = pd.DataFrame()\n",
        "ca_movie_df['movie_title'] = movie_titles\n",
        "ca_movie_df['movie_rating'] = movie_ratings\n",
        "ca_movie_df"
      ],
      "execution_count": null,
      "outputs": [
        {
          "output_type": "execute_result",
          "data": {
            "text/html": [
              "<div>\n",
              "<style scoped>\n",
              "    .dataframe tbody tr th:only-of-type {\n",
              "        vertical-align: middle;\n",
              "    }\n",
              "\n",
              "    .dataframe tbody tr th {\n",
              "        vertical-align: top;\n",
              "    }\n",
              "\n",
              "    .dataframe thead th {\n",
              "        text-align: right;\n",
              "    }\n",
              "</style>\n",
              "<table border=\"1\" class=\"dataframe\">\n",
              "  <thead>\n",
              "    <tr style=\"text-align: right;\">\n",
              "      <th></th>\n",
              "      <th>movie_title</th>\n",
              "      <th>movie_rating</th>\n",
              "    </tr>\n",
              "  </thead>\n",
              "  <tbody>\n",
              "    <tr>\n",
              "      <th>0</th>\n",
              "      <td>Radioactive (2019)</td>\n",
              "      <td>6.2</td>\n",
              "    </tr>\n",
              "    <tr>\n",
              "      <th>1</th>\n",
              "      <td>Can You Keep a Secret? (2019)</td>\n",
              "      <td>5.3</td>\n",
              "    </tr>\n",
              "    <tr>\n",
              "      <th>2</th>\n",
              "      <td>Extra Ordinary (2019)</td>\n",
              "      <td>6.4</td>\n",
              "    </tr>\n",
              "    <tr>\n",
              "      <th>3</th>\n",
              "      <td>Downhill (2020)</td>\n",
              "      <td>4.8</td>\n",
              "    </tr>\n",
              "    <tr>\n",
              "      <th>4</th>\n",
              "      <td>Scoob! (2020)</td>\n",
              "      <td>5.7</td>\n",
              "    </tr>\n",
              "    <tr>\n",
              "      <th>...</th>\n",
              "      <td>...</td>\n",
              "      <td>...</td>\n",
              "    </tr>\n",
              "    <tr>\n",
              "      <th>63</th>\n",
              "      <td>The Imitation Game (2014)</td>\n",
              "      <td>8.0</td>\n",
              "    </tr>\n",
              "    <tr>\n",
              "      <th>64</th>\n",
              "      <td>Her (2013)</td>\n",
              "      <td>8.0</td>\n",
              "    </tr>\n",
              "    <tr>\n",
              "      <th>65</th>\n",
              "      <td>Inception (2010)</td>\n",
              "      <td>8.8</td>\n",
              "    </tr>\n",
              "    <tr>\n",
              "      <th>66</th>\n",
              "      <td>Oblivion (2013)</td>\n",
              "      <td>7.0</td>\n",
              "    </tr>\n",
              "    <tr>\n",
              "      <th>67</th>\n",
              "      <td>Our Brand Is Crisis (2015)</td>\n",
              "      <td>6.1</td>\n",
              "    </tr>\n",
              "  </tbody>\n",
              "</table>\n",
              "<p>68 rows × 2 columns</p>\n",
              "</div>"
            ],
            "text/plain": [
              "                      movie_title  movie_rating\n",
              "0              Radioactive (2019)           6.2\n",
              "1   Can You Keep a Secret? (2019)           5.3\n",
              "2           Extra Ordinary (2019)           6.4\n",
              "3                 Downhill (2020)           4.8\n",
              "4                   Scoob! (2020)           5.7\n",
              "..                            ...           ...\n",
              "63      The Imitation Game (2014)           8.0\n",
              "64                     Her (2013)           8.0\n",
              "65               Inception (2010)           8.8\n",
              "66                Oblivion (2013)           7.0\n",
              "67     Our Brand Is Crisis (2015)           6.1\n",
              "\n",
              "[68 rows x 2 columns]"
            ]
          },
          "metadata": {
            "tags": []
          },
          "execution_count": 83
        }
      ]
    },
    {
      "cell_type": "code",
      "metadata": {
        "id": "_ulGcwlqYO5h"
      },
      "source": [
        "ca_movie_df.sort_values('movie_rating', ascending=False)"
      ],
      "execution_count": null,
      "outputs": []
    },
    {
      "cell_type": "code",
      "metadata": {
        "id": "eib3rMsCYg0X"
      },
      "source": [
        "#Web Scraping in a Nutshell\n",
        "  #請求資料\n",
        "    #以 Quick JavaScript Switcher 判斷資料分類在 XHR 或 Doc\n",
        "    #以 Chrome 開發人員工具檢視 Preview/Response 確認資料格式\n",
        "    #以 Chrome 開發人員工具檢視請求資料的 Request URL/Request Method/Query String Parameters/Form Data/Cookies\n",
        "    #以 requests 發送請求獲得回應\n",
        "  #解析資料\n",
        "    #資料是 JSON 格式，呼叫回應的 .json() 方法後直接以 Python 資料結構解析\n",
        "    #資料是 XML 格式，使用回應的 .content 屬性後以 lxml 搭配 XPath 解析\n",
        "    #資料是 HTML 格式，使用回應的 .text 屬性後以 bs4 搭配 CSS Selector 解析"
      ],
      "execution_count": null,
      "outputs": []
    },
    {
      "cell_type": "code",
      "metadata": {
        "id": "58FX_uPIZTq5"
      },
      "source": [
        ""
      ],
      "execution_count": null,
      "outputs": []
    }
  ]
}